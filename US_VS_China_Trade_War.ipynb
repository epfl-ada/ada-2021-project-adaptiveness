{
  "nbformat": 4,
  "nbformat_minor": 0,
  "metadata": {
    "colab": {
      "name": "US_VS_China_Trade_War.ipynb",
      "provenance": [],
      "collapsed_sections": []
    },
    "kernelspec": {
      "name": "python3",
      "display_name": "Python 3"
    },
    "language_info": {
      "name": "python"
    },
    "widgets": {
      "application/vnd.jupyter.widget-state+json": {
        "ccb6a66bb4384a63b384e3442ce71f6e": {
          "model_module": "@jupyter-widgets/controls",
          "model_name": "HBoxModel",
          "model_module_version": "1.5.0",
          "state": {
            "_view_name": "HBoxView",
            "_dom_classes": [],
            "_model_name": "HBoxModel",
            "_view_module": "@jupyter-widgets/controls",
            "_model_module_version": "1.5.0",
            "_view_count": null,
            "_view_module_version": "1.5.0",
            "box_style": "",
            "layout": "IPY_MODEL_1349dab57ad84631be6d54d9cf225c31",
            "_model_module": "@jupyter-widgets/controls",
            "children": [
              "IPY_MODEL_2cccad0907c24b36a28c18fa9f4975ea",
              "IPY_MODEL_cd5b36f934904fc9a977aac10915afd4",
              "IPY_MODEL_5abed60fba72465780cb28c8e8528148"
            ]
          }
        },
        "1349dab57ad84631be6d54d9cf225c31": {
          "model_module": "@jupyter-widgets/base",
          "model_name": "LayoutModel",
          "model_module_version": "1.2.0",
          "state": {
            "_view_name": "LayoutView",
            "grid_template_rows": null,
            "right": null,
            "justify_content": null,
            "_view_module": "@jupyter-widgets/base",
            "overflow": null,
            "_model_module_version": "1.2.0",
            "_view_count": null,
            "flex_flow": null,
            "width": null,
            "min_width": null,
            "border": null,
            "align_items": null,
            "bottom": null,
            "_model_module": "@jupyter-widgets/base",
            "top": null,
            "grid_column": null,
            "overflow_y": null,
            "overflow_x": null,
            "grid_auto_flow": null,
            "grid_area": null,
            "grid_template_columns": null,
            "flex": null,
            "_model_name": "LayoutModel",
            "justify_items": null,
            "grid_row": null,
            "max_height": null,
            "align_content": null,
            "visibility": null,
            "align_self": null,
            "height": null,
            "min_height": null,
            "padding": null,
            "grid_auto_rows": null,
            "grid_gap": null,
            "max_width": null,
            "order": null,
            "_view_module_version": "1.2.0",
            "grid_template_areas": null,
            "object_position": null,
            "object_fit": null,
            "grid_auto_columns": null,
            "margin": null,
            "display": null,
            "left": null
          }
        },
        "2cccad0907c24b36a28c18fa9f4975ea": {
          "model_module": "@jupyter-widgets/controls",
          "model_name": "HTMLModel",
          "model_module_version": "1.5.0",
          "state": {
            "_view_name": "HTMLView",
            "style": "IPY_MODEL_b6001db7ebcc441b959e31bba5c7e09d",
            "_dom_classes": [],
            "description": "",
            "_model_name": "HTMLModel",
            "placeholder": "​",
            "_view_module": "@jupyter-widgets/controls",
            "_model_module_version": "1.5.0",
            "value": "Downloading: 100%",
            "_view_count": null,
            "_view_module_version": "1.5.0",
            "description_tooltip": null,
            "_model_module": "@jupyter-widgets/controls",
            "layout": "IPY_MODEL_b544fca8626d43d8aa2fbb99cdd8cc88"
          }
        },
        "cd5b36f934904fc9a977aac10915afd4": {
          "model_module": "@jupyter-widgets/controls",
          "model_name": "FloatProgressModel",
          "model_module_version": "1.5.0",
          "state": {
            "_view_name": "ProgressView",
            "style": "IPY_MODEL_f57781296deb4a7584bbfede71800aa4",
            "_dom_classes": [],
            "description": "",
            "_model_name": "FloatProgressModel",
            "bar_style": "success",
            "max": 28,
            "_view_module": "@jupyter-widgets/controls",
            "_model_module_version": "1.5.0",
            "value": 28,
            "_view_count": null,
            "_view_module_version": "1.5.0",
            "orientation": "horizontal",
            "min": 0,
            "description_tooltip": null,
            "_model_module": "@jupyter-widgets/controls",
            "layout": "IPY_MODEL_c894446a78eb4355bf1b294e6bb806d3"
          }
        },
        "5abed60fba72465780cb28c8e8528148": {
          "model_module": "@jupyter-widgets/controls",
          "model_name": "HTMLModel",
          "model_module_version": "1.5.0",
          "state": {
            "_view_name": "HTMLView",
            "style": "IPY_MODEL_4e2c064ef4144f308ca332854cfcaa88",
            "_dom_classes": [],
            "description": "",
            "_model_name": "HTMLModel",
            "placeholder": "​",
            "_view_module": "@jupyter-widgets/controls",
            "_model_module_version": "1.5.0",
            "value": " 28.0/28.0 [00:00&lt;00:00, 526B/s]",
            "_view_count": null,
            "_view_module_version": "1.5.0",
            "description_tooltip": null,
            "_model_module": "@jupyter-widgets/controls",
            "layout": "IPY_MODEL_b46ca255b250460d9c5e445c57cad32a"
          }
        },
        "b6001db7ebcc441b959e31bba5c7e09d": {
          "model_module": "@jupyter-widgets/controls",
          "model_name": "DescriptionStyleModel",
          "model_module_version": "1.5.0",
          "state": {
            "_view_name": "StyleView",
            "_model_name": "DescriptionStyleModel",
            "description_width": "",
            "_view_module": "@jupyter-widgets/base",
            "_model_module_version": "1.5.0",
            "_view_count": null,
            "_view_module_version": "1.2.0",
            "_model_module": "@jupyter-widgets/controls"
          }
        },
        "b544fca8626d43d8aa2fbb99cdd8cc88": {
          "model_module": "@jupyter-widgets/base",
          "model_name": "LayoutModel",
          "model_module_version": "1.2.0",
          "state": {
            "_view_name": "LayoutView",
            "grid_template_rows": null,
            "right": null,
            "justify_content": null,
            "_view_module": "@jupyter-widgets/base",
            "overflow": null,
            "_model_module_version": "1.2.0",
            "_view_count": null,
            "flex_flow": null,
            "width": null,
            "min_width": null,
            "border": null,
            "align_items": null,
            "bottom": null,
            "_model_module": "@jupyter-widgets/base",
            "top": null,
            "grid_column": null,
            "overflow_y": null,
            "overflow_x": null,
            "grid_auto_flow": null,
            "grid_area": null,
            "grid_template_columns": null,
            "flex": null,
            "_model_name": "LayoutModel",
            "justify_items": null,
            "grid_row": null,
            "max_height": null,
            "align_content": null,
            "visibility": null,
            "align_self": null,
            "height": null,
            "min_height": null,
            "padding": null,
            "grid_auto_rows": null,
            "grid_gap": null,
            "max_width": null,
            "order": null,
            "_view_module_version": "1.2.0",
            "grid_template_areas": null,
            "object_position": null,
            "object_fit": null,
            "grid_auto_columns": null,
            "margin": null,
            "display": null,
            "left": null
          }
        },
        "f57781296deb4a7584bbfede71800aa4": {
          "model_module": "@jupyter-widgets/controls",
          "model_name": "ProgressStyleModel",
          "model_module_version": "1.5.0",
          "state": {
            "_view_name": "StyleView",
            "_model_name": "ProgressStyleModel",
            "description_width": "",
            "_view_module": "@jupyter-widgets/base",
            "_model_module_version": "1.5.0",
            "_view_count": null,
            "_view_module_version": "1.2.0",
            "bar_color": null,
            "_model_module": "@jupyter-widgets/controls"
          }
        },
        "c894446a78eb4355bf1b294e6bb806d3": {
          "model_module": "@jupyter-widgets/base",
          "model_name": "LayoutModel",
          "model_module_version": "1.2.0",
          "state": {
            "_view_name": "LayoutView",
            "grid_template_rows": null,
            "right": null,
            "justify_content": null,
            "_view_module": "@jupyter-widgets/base",
            "overflow": null,
            "_model_module_version": "1.2.0",
            "_view_count": null,
            "flex_flow": null,
            "width": null,
            "min_width": null,
            "border": null,
            "align_items": null,
            "bottom": null,
            "_model_module": "@jupyter-widgets/base",
            "top": null,
            "grid_column": null,
            "overflow_y": null,
            "overflow_x": null,
            "grid_auto_flow": null,
            "grid_area": null,
            "grid_template_columns": null,
            "flex": null,
            "_model_name": "LayoutModel",
            "justify_items": null,
            "grid_row": null,
            "max_height": null,
            "align_content": null,
            "visibility": null,
            "align_self": null,
            "height": null,
            "min_height": null,
            "padding": null,
            "grid_auto_rows": null,
            "grid_gap": null,
            "max_width": null,
            "order": null,
            "_view_module_version": "1.2.0",
            "grid_template_areas": null,
            "object_position": null,
            "object_fit": null,
            "grid_auto_columns": null,
            "margin": null,
            "display": null,
            "left": null
          }
        },
        "4e2c064ef4144f308ca332854cfcaa88": {
          "model_module": "@jupyter-widgets/controls",
          "model_name": "DescriptionStyleModel",
          "model_module_version": "1.5.0",
          "state": {
            "_view_name": "StyleView",
            "_model_name": "DescriptionStyleModel",
            "description_width": "",
            "_view_module": "@jupyter-widgets/base",
            "_model_module_version": "1.5.0",
            "_view_count": null,
            "_view_module_version": "1.2.0",
            "_model_module": "@jupyter-widgets/controls"
          }
        },
        "b46ca255b250460d9c5e445c57cad32a": {
          "model_module": "@jupyter-widgets/base",
          "model_name": "LayoutModel",
          "model_module_version": "1.2.0",
          "state": {
            "_view_name": "LayoutView",
            "grid_template_rows": null,
            "right": null,
            "justify_content": null,
            "_view_module": "@jupyter-widgets/base",
            "overflow": null,
            "_model_module_version": "1.2.0",
            "_view_count": null,
            "flex_flow": null,
            "width": null,
            "min_width": null,
            "border": null,
            "align_items": null,
            "bottom": null,
            "_model_module": "@jupyter-widgets/base",
            "top": null,
            "grid_column": null,
            "overflow_y": null,
            "overflow_x": null,
            "grid_auto_flow": null,
            "grid_area": null,
            "grid_template_columns": null,
            "flex": null,
            "_model_name": "LayoutModel",
            "justify_items": null,
            "grid_row": null,
            "max_height": null,
            "align_content": null,
            "visibility": null,
            "align_self": null,
            "height": null,
            "min_height": null,
            "padding": null,
            "grid_auto_rows": null,
            "grid_gap": null,
            "max_width": null,
            "order": null,
            "_view_module_version": "1.2.0",
            "grid_template_areas": null,
            "object_position": null,
            "object_fit": null,
            "grid_auto_columns": null,
            "margin": null,
            "display": null,
            "left": null
          }
        },
        "eef5f27c96294886a35dd0143723c4f1": {
          "model_module": "@jupyter-widgets/controls",
          "model_name": "HBoxModel",
          "model_module_version": "1.5.0",
          "state": {
            "_view_name": "HBoxView",
            "_dom_classes": [],
            "_model_name": "HBoxModel",
            "_view_module": "@jupyter-widgets/controls",
            "_model_module_version": "1.5.0",
            "_view_count": null,
            "_view_module_version": "1.5.0",
            "box_style": "",
            "layout": "IPY_MODEL_c5cfb585edd240fdb34e37a6f8d6927f",
            "_model_module": "@jupyter-widgets/controls",
            "children": [
              "IPY_MODEL_cb584968243c451f99dd1cbde8876efe",
              "IPY_MODEL_a74787c8f88c4ff3aa1779f4a685c33d",
              "IPY_MODEL_dbc49bd04f804a2c9582e8eddbc7f0d4"
            ]
          }
        },
        "c5cfb585edd240fdb34e37a6f8d6927f": {
          "model_module": "@jupyter-widgets/base",
          "model_name": "LayoutModel",
          "model_module_version": "1.2.0",
          "state": {
            "_view_name": "LayoutView",
            "grid_template_rows": null,
            "right": null,
            "justify_content": null,
            "_view_module": "@jupyter-widgets/base",
            "overflow": null,
            "_model_module_version": "1.2.0",
            "_view_count": null,
            "flex_flow": null,
            "width": null,
            "min_width": null,
            "border": null,
            "align_items": null,
            "bottom": null,
            "_model_module": "@jupyter-widgets/base",
            "top": null,
            "grid_column": null,
            "overflow_y": null,
            "overflow_x": null,
            "grid_auto_flow": null,
            "grid_area": null,
            "grid_template_columns": null,
            "flex": null,
            "_model_name": "LayoutModel",
            "justify_items": null,
            "grid_row": null,
            "max_height": null,
            "align_content": null,
            "visibility": null,
            "align_self": null,
            "height": null,
            "min_height": null,
            "padding": null,
            "grid_auto_rows": null,
            "grid_gap": null,
            "max_width": null,
            "order": null,
            "_view_module_version": "1.2.0",
            "grid_template_areas": null,
            "object_position": null,
            "object_fit": null,
            "grid_auto_columns": null,
            "margin": null,
            "display": null,
            "left": null
          }
        },
        "cb584968243c451f99dd1cbde8876efe": {
          "model_module": "@jupyter-widgets/controls",
          "model_name": "HTMLModel",
          "model_module_version": "1.5.0",
          "state": {
            "_view_name": "HTMLView",
            "style": "IPY_MODEL_1ac30e18d5dd40b485415267be4a9c6a",
            "_dom_classes": [],
            "description": "",
            "_model_name": "HTMLModel",
            "placeholder": "​",
            "_view_module": "@jupyter-widgets/controls",
            "_model_module_version": "1.5.0",
            "value": "Downloading: 100%",
            "_view_count": null,
            "_view_module_version": "1.5.0",
            "description_tooltip": null,
            "_model_module": "@jupyter-widgets/controls",
            "layout": "IPY_MODEL_7010ea63cd7048f3b189b0acc967a522"
          }
        },
        "a74787c8f88c4ff3aa1779f4a685c33d": {
          "model_module": "@jupyter-widgets/controls",
          "model_name": "FloatProgressModel",
          "model_module_version": "1.5.0",
          "state": {
            "_view_name": "ProgressView",
            "style": "IPY_MODEL_649d3d98145d4d0a8158ab8bf1c7a977",
            "_dom_classes": [],
            "description": "",
            "_model_name": "FloatProgressModel",
            "bar_style": "success",
            "max": 231508,
            "_view_module": "@jupyter-widgets/controls",
            "_model_module_version": "1.5.0",
            "value": 231508,
            "_view_count": null,
            "_view_module_version": "1.5.0",
            "orientation": "horizontal",
            "min": 0,
            "description_tooltip": null,
            "_model_module": "@jupyter-widgets/controls",
            "layout": "IPY_MODEL_041c21889f7d429c91fe53e64cbd83e7"
          }
        },
        "dbc49bd04f804a2c9582e8eddbc7f0d4": {
          "model_module": "@jupyter-widgets/controls",
          "model_name": "HTMLModel",
          "model_module_version": "1.5.0",
          "state": {
            "_view_name": "HTMLView",
            "style": "IPY_MODEL_2393c9557f524e66b61d7c84b952fde1",
            "_dom_classes": [],
            "description": "",
            "_model_name": "HTMLModel",
            "placeholder": "​",
            "_view_module": "@jupyter-widgets/controls",
            "_model_module_version": "1.5.0",
            "value": " 226k/226k [00:00&lt;00:00, 542kB/s]",
            "_view_count": null,
            "_view_module_version": "1.5.0",
            "description_tooltip": null,
            "_model_module": "@jupyter-widgets/controls",
            "layout": "IPY_MODEL_214f605b2c584fb5b3d5a6d430916f8f"
          }
        },
        "1ac30e18d5dd40b485415267be4a9c6a": {
          "model_module": "@jupyter-widgets/controls",
          "model_name": "DescriptionStyleModel",
          "model_module_version": "1.5.0",
          "state": {
            "_view_name": "StyleView",
            "_model_name": "DescriptionStyleModel",
            "description_width": "",
            "_view_module": "@jupyter-widgets/base",
            "_model_module_version": "1.5.0",
            "_view_count": null,
            "_view_module_version": "1.2.0",
            "_model_module": "@jupyter-widgets/controls"
          }
        },
        "7010ea63cd7048f3b189b0acc967a522": {
          "model_module": "@jupyter-widgets/base",
          "model_name": "LayoutModel",
          "model_module_version": "1.2.0",
          "state": {
            "_view_name": "LayoutView",
            "grid_template_rows": null,
            "right": null,
            "justify_content": null,
            "_view_module": "@jupyter-widgets/base",
            "overflow": null,
            "_model_module_version": "1.2.0",
            "_view_count": null,
            "flex_flow": null,
            "width": null,
            "min_width": null,
            "border": null,
            "align_items": null,
            "bottom": null,
            "_model_module": "@jupyter-widgets/base",
            "top": null,
            "grid_column": null,
            "overflow_y": null,
            "overflow_x": null,
            "grid_auto_flow": null,
            "grid_area": null,
            "grid_template_columns": null,
            "flex": null,
            "_model_name": "LayoutModel",
            "justify_items": null,
            "grid_row": null,
            "max_height": null,
            "align_content": null,
            "visibility": null,
            "align_self": null,
            "height": null,
            "min_height": null,
            "padding": null,
            "grid_auto_rows": null,
            "grid_gap": null,
            "max_width": null,
            "order": null,
            "_view_module_version": "1.2.0",
            "grid_template_areas": null,
            "object_position": null,
            "object_fit": null,
            "grid_auto_columns": null,
            "margin": null,
            "display": null,
            "left": null
          }
        },
        "649d3d98145d4d0a8158ab8bf1c7a977": {
          "model_module": "@jupyter-widgets/controls",
          "model_name": "ProgressStyleModel",
          "model_module_version": "1.5.0",
          "state": {
            "_view_name": "StyleView",
            "_model_name": "ProgressStyleModel",
            "description_width": "",
            "_view_module": "@jupyter-widgets/base",
            "_model_module_version": "1.5.0",
            "_view_count": null,
            "_view_module_version": "1.2.0",
            "bar_color": null,
            "_model_module": "@jupyter-widgets/controls"
          }
        },
        "041c21889f7d429c91fe53e64cbd83e7": {
          "model_module": "@jupyter-widgets/base",
          "model_name": "LayoutModel",
          "model_module_version": "1.2.0",
          "state": {
            "_view_name": "LayoutView",
            "grid_template_rows": null,
            "right": null,
            "justify_content": null,
            "_view_module": "@jupyter-widgets/base",
            "overflow": null,
            "_model_module_version": "1.2.0",
            "_view_count": null,
            "flex_flow": null,
            "width": null,
            "min_width": null,
            "border": null,
            "align_items": null,
            "bottom": null,
            "_model_module": "@jupyter-widgets/base",
            "top": null,
            "grid_column": null,
            "overflow_y": null,
            "overflow_x": null,
            "grid_auto_flow": null,
            "grid_area": null,
            "grid_template_columns": null,
            "flex": null,
            "_model_name": "LayoutModel",
            "justify_items": null,
            "grid_row": null,
            "max_height": null,
            "align_content": null,
            "visibility": null,
            "align_self": null,
            "height": null,
            "min_height": null,
            "padding": null,
            "grid_auto_rows": null,
            "grid_gap": null,
            "max_width": null,
            "order": null,
            "_view_module_version": "1.2.0",
            "grid_template_areas": null,
            "object_position": null,
            "object_fit": null,
            "grid_auto_columns": null,
            "margin": null,
            "display": null,
            "left": null
          }
        },
        "2393c9557f524e66b61d7c84b952fde1": {
          "model_module": "@jupyter-widgets/controls",
          "model_name": "DescriptionStyleModel",
          "model_module_version": "1.5.0",
          "state": {
            "_view_name": "StyleView",
            "_model_name": "DescriptionStyleModel",
            "description_width": "",
            "_view_module": "@jupyter-widgets/base",
            "_model_module_version": "1.5.0",
            "_view_count": null,
            "_view_module_version": "1.2.0",
            "_model_module": "@jupyter-widgets/controls"
          }
        },
        "214f605b2c584fb5b3d5a6d430916f8f": {
          "model_module": "@jupyter-widgets/base",
          "model_name": "LayoutModel",
          "model_module_version": "1.2.0",
          "state": {
            "_view_name": "LayoutView",
            "grid_template_rows": null,
            "right": null,
            "justify_content": null,
            "_view_module": "@jupyter-widgets/base",
            "overflow": null,
            "_model_module_version": "1.2.0",
            "_view_count": null,
            "flex_flow": null,
            "width": null,
            "min_width": null,
            "border": null,
            "align_items": null,
            "bottom": null,
            "_model_module": "@jupyter-widgets/base",
            "top": null,
            "grid_column": null,
            "overflow_y": null,
            "overflow_x": null,
            "grid_auto_flow": null,
            "grid_area": null,
            "grid_template_columns": null,
            "flex": null,
            "_model_name": "LayoutModel",
            "justify_items": null,
            "grid_row": null,
            "max_height": null,
            "align_content": null,
            "visibility": null,
            "align_self": null,
            "height": null,
            "min_height": null,
            "padding": null,
            "grid_auto_rows": null,
            "grid_gap": null,
            "max_width": null,
            "order": null,
            "_view_module_version": "1.2.0",
            "grid_template_areas": null,
            "object_position": null,
            "object_fit": null,
            "grid_auto_columns": null,
            "margin": null,
            "display": null,
            "left": null
          }
        },
        "cdb5f90e4ac548d38142e5d56d258e60": {
          "model_module": "@jupyter-widgets/controls",
          "model_name": "HBoxModel",
          "model_module_version": "1.5.0",
          "state": {
            "_view_name": "HBoxView",
            "_dom_classes": [],
            "_model_name": "HBoxModel",
            "_view_module": "@jupyter-widgets/controls",
            "_model_module_version": "1.5.0",
            "_view_count": null,
            "_view_module_version": "1.5.0",
            "box_style": "",
            "layout": "IPY_MODEL_3108602a7eb34720b4f478c71a641ab7",
            "_model_module": "@jupyter-widgets/controls",
            "children": [
              "IPY_MODEL_0bbbc4ff5d454d54aef927d5e871728e",
              "IPY_MODEL_ebf2c6b299f84aaa914383622b48da58",
              "IPY_MODEL_3e73619152b44e168fa85eaa0234e0f5"
            ]
          }
        },
        "3108602a7eb34720b4f478c71a641ab7": {
          "model_module": "@jupyter-widgets/base",
          "model_name": "LayoutModel",
          "model_module_version": "1.2.0",
          "state": {
            "_view_name": "LayoutView",
            "grid_template_rows": null,
            "right": null,
            "justify_content": null,
            "_view_module": "@jupyter-widgets/base",
            "overflow": null,
            "_model_module_version": "1.2.0",
            "_view_count": null,
            "flex_flow": null,
            "width": null,
            "min_width": null,
            "border": null,
            "align_items": null,
            "bottom": null,
            "_model_module": "@jupyter-widgets/base",
            "top": null,
            "grid_column": null,
            "overflow_y": null,
            "overflow_x": null,
            "grid_auto_flow": null,
            "grid_area": null,
            "grid_template_columns": null,
            "flex": null,
            "_model_name": "LayoutModel",
            "justify_items": null,
            "grid_row": null,
            "max_height": null,
            "align_content": null,
            "visibility": null,
            "align_self": null,
            "height": null,
            "min_height": null,
            "padding": null,
            "grid_auto_rows": null,
            "grid_gap": null,
            "max_width": null,
            "order": null,
            "_view_module_version": "1.2.0",
            "grid_template_areas": null,
            "object_position": null,
            "object_fit": null,
            "grid_auto_columns": null,
            "margin": null,
            "display": null,
            "left": null
          }
        },
        "0bbbc4ff5d454d54aef927d5e871728e": {
          "model_module": "@jupyter-widgets/controls",
          "model_name": "HTMLModel",
          "model_module_version": "1.5.0",
          "state": {
            "_view_name": "HTMLView",
            "style": "IPY_MODEL_ccbce8924dee4ecba690a74b9b449c7d",
            "_dom_classes": [],
            "description": "",
            "_model_name": "HTMLModel",
            "placeholder": "​",
            "_view_module": "@jupyter-widgets/controls",
            "_model_module_version": "1.5.0",
            "value": "Downloading: 100%",
            "_view_count": null,
            "_view_module_version": "1.5.0",
            "description_tooltip": null,
            "_model_module": "@jupyter-widgets/controls",
            "layout": "IPY_MODEL_6bdce4b491c84c2aa822e0dc65247b98"
          }
        },
        "ebf2c6b299f84aaa914383622b48da58": {
          "model_module": "@jupyter-widgets/controls",
          "model_name": "FloatProgressModel",
          "model_module_version": "1.5.0",
          "state": {
            "_view_name": "ProgressView",
            "style": "IPY_MODEL_f5bc7f5e7efe4f0cb2a458d379f786ef",
            "_dom_classes": [],
            "description": "",
            "_model_name": "FloatProgressModel",
            "bar_style": "success",
            "max": 466062,
            "_view_module": "@jupyter-widgets/controls",
            "_model_module_version": "1.5.0",
            "value": 466062,
            "_view_count": null,
            "_view_module_version": "1.5.0",
            "orientation": "horizontal",
            "min": 0,
            "description_tooltip": null,
            "_model_module": "@jupyter-widgets/controls",
            "layout": "IPY_MODEL_0eed8fd0f6d6460eb7d3880de82cdaf4"
          }
        },
        "3e73619152b44e168fa85eaa0234e0f5": {
          "model_module": "@jupyter-widgets/controls",
          "model_name": "HTMLModel",
          "model_module_version": "1.5.0",
          "state": {
            "_view_name": "HTMLView",
            "style": "IPY_MODEL_0af2aa30ce304f5c8dd961b8e95a40a7",
            "_dom_classes": [],
            "description": "",
            "_model_name": "HTMLModel",
            "placeholder": "​",
            "_view_module": "@jupyter-widgets/controls",
            "_model_module_version": "1.5.0",
            "value": " 455k/455k [00:00&lt;00:00, 656kB/s]",
            "_view_count": null,
            "_view_module_version": "1.5.0",
            "description_tooltip": null,
            "_model_module": "@jupyter-widgets/controls",
            "layout": "IPY_MODEL_a83cb124ab42412da99bd10aeb0699f8"
          }
        },
        "ccbce8924dee4ecba690a74b9b449c7d": {
          "model_module": "@jupyter-widgets/controls",
          "model_name": "DescriptionStyleModel",
          "model_module_version": "1.5.0",
          "state": {
            "_view_name": "StyleView",
            "_model_name": "DescriptionStyleModel",
            "description_width": "",
            "_view_module": "@jupyter-widgets/base",
            "_model_module_version": "1.5.0",
            "_view_count": null,
            "_view_module_version": "1.2.0",
            "_model_module": "@jupyter-widgets/controls"
          }
        },
        "6bdce4b491c84c2aa822e0dc65247b98": {
          "model_module": "@jupyter-widgets/base",
          "model_name": "LayoutModel",
          "model_module_version": "1.2.0",
          "state": {
            "_view_name": "LayoutView",
            "grid_template_rows": null,
            "right": null,
            "justify_content": null,
            "_view_module": "@jupyter-widgets/base",
            "overflow": null,
            "_model_module_version": "1.2.0",
            "_view_count": null,
            "flex_flow": null,
            "width": null,
            "min_width": null,
            "border": null,
            "align_items": null,
            "bottom": null,
            "_model_module": "@jupyter-widgets/base",
            "top": null,
            "grid_column": null,
            "overflow_y": null,
            "overflow_x": null,
            "grid_auto_flow": null,
            "grid_area": null,
            "grid_template_columns": null,
            "flex": null,
            "_model_name": "LayoutModel",
            "justify_items": null,
            "grid_row": null,
            "max_height": null,
            "align_content": null,
            "visibility": null,
            "align_self": null,
            "height": null,
            "min_height": null,
            "padding": null,
            "grid_auto_rows": null,
            "grid_gap": null,
            "max_width": null,
            "order": null,
            "_view_module_version": "1.2.0",
            "grid_template_areas": null,
            "object_position": null,
            "object_fit": null,
            "grid_auto_columns": null,
            "margin": null,
            "display": null,
            "left": null
          }
        },
        "f5bc7f5e7efe4f0cb2a458d379f786ef": {
          "model_module": "@jupyter-widgets/controls",
          "model_name": "ProgressStyleModel",
          "model_module_version": "1.5.0",
          "state": {
            "_view_name": "StyleView",
            "_model_name": "ProgressStyleModel",
            "description_width": "",
            "_view_module": "@jupyter-widgets/base",
            "_model_module_version": "1.5.0",
            "_view_count": null,
            "_view_module_version": "1.2.0",
            "bar_color": null,
            "_model_module": "@jupyter-widgets/controls"
          }
        },
        "0eed8fd0f6d6460eb7d3880de82cdaf4": {
          "model_module": "@jupyter-widgets/base",
          "model_name": "LayoutModel",
          "model_module_version": "1.2.0",
          "state": {
            "_view_name": "LayoutView",
            "grid_template_rows": null,
            "right": null,
            "justify_content": null,
            "_view_module": "@jupyter-widgets/base",
            "overflow": null,
            "_model_module_version": "1.2.0",
            "_view_count": null,
            "flex_flow": null,
            "width": null,
            "min_width": null,
            "border": null,
            "align_items": null,
            "bottom": null,
            "_model_module": "@jupyter-widgets/base",
            "top": null,
            "grid_column": null,
            "overflow_y": null,
            "overflow_x": null,
            "grid_auto_flow": null,
            "grid_area": null,
            "grid_template_columns": null,
            "flex": null,
            "_model_name": "LayoutModel",
            "justify_items": null,
            "grid_row": null,
            "max_height": null,
            "align_content": null,
            "visibility": null,
            "align_self": null,
            "height": null,
            "min_height": null,
            "padding": null,
            "grid_auto_rows": null,
            "grid_gap": null,
            "max_width": null,
            "order": null,
            "_view_module_version": "1.2.0",
            "grid_template_areas": null,
            "object_position": null,
            "object_fit": null,
            "grid_auto_columns": null,
            "margin": null,
            "display": null,
            "left": null
          }
        },
        "0af2aa30ce304f5c8dd961b8e95a40a7": {
          "model_module": "@jupyter-widgets/controls",
          "model_name": "DescriptionStyleModel",
          "model_module_version": "1.5.0",
          "state": {
            "_view_name": "StyleView",
            "_model_name": "DescriptionStyleModel",
            "description_width": "",
            "_view_module": "@jupyter-widgets/base",
            "_model_module_version": "1.5.0",
            "_view_count": null,
            "_view_module_version": "1.2.0",
            "_model_module": "@jupyter-widgets/controls"
          }
        },
        "a83cb124ab42412da99bd10aeb0699f8": {
          "model_module": "@jupyter-widgets/base",
          "model_name": "LayoutModel",
          "model_module_version": "1.2.0",
          "state": {
            "_view_name": "LayoutView",
            "grid_template_rows": null,
            "right": null,
            "justify_content": null,
            "_view_module": "@jupyter-widgets/base",
            "overflow": null,
            "_model_module_version": "1.2.0",
            "_view_count": null,
            "flex_flow": null,
            "width": null,
            "min_width": null,
            "border": null,
            "align_items": null,
            "bottom": null,
            "_model_module": "@jupyter-widgets/base",
            "top": null,
            "grid_column": null,
            "overflow_y": null,
            "overflow_x": null,
            "grid_auto_flow": null,
            "grid_area": null,
            "grid_template_columns": null,
            "flex": null,
            "_model_name": "LayoutModel",
            "justify_items": null,
            "grid_row": null,
            "max_height": null,
            "align_content": null,
            "visibility": null,
            "align_self": null,
            "height": null,
            "min_height": null,
            "padding": null,
            "grid_auto_rows": null,
            "grid_gap": null,
            "max_width": null,
            "order": null,
            "_view_module_version": "1.2.0",
            "grid_template_areas": null,
            "object_position": null,
            "object_fit": null,
            "grid_auto_columns": null,
            "margin": null,
            "display": null,
            "left": null
          }
        },
        "3e46cc994c5446a3a8f7c286bfb73a79": {
          "model_module": "@jupyter-widgets/controls",
          "model_name": "HBoxModel",
          "model_module_version": "1.5.0",
          "state": {
            "_view_name": "HBoxView",
            "_dom_classes": [],
            "_model_name": "HBoxModel",
            "_view_module": "@jupyter-widgets/controls",
            "_model_module_version": "1.5.0",
            "_view_count": null,
            "_view_module_version": "1.5.0",
            "box_style": "",
            "layout": "IPY_MODEL_9d53dc29209041f0959d71787acdb7b2",
            "_model_module": "@jupyter-widgets/controls",
            "children": [
              "IPY_MODEL_46a990b57a8d4ae290bea3ab87fcdd62",
              "IPY_MODEL_ea6ec2a2f29646b6b730f2e593a899cc",
              "IPY_MODEL_deefe97352eb4f1e86d7786be142c7f3"
            ]
          }
        },
        "9d53dc29209041f0959d71787acdb7b2": {
          "model_module": "@jupyter-widgets/base",
          "model_name": "LayoutModel",
          "model_module_version": "1.2.0",
          "state": {
            "_view_name": "LayoutView",
            "grid_template_rows": null,
            "right": null,
            "justify_content": null,
            "_view_module": "@jupyter-widgets/base",
            "overflow": null,
            "_model_module_version": "1.2.0",
            "_view_count": null,
            "flex_flow": null,
            "width": null,
            "min_width": null,
            "border": null,
            "align_items": null,
            "bottom": null,
            "_model_module": "@jupyter-widgets/base",
            "top": null,
            "grid_column": null,
            "overflow_y": null,
            "overflow_x": null,
            "grid_auto_flow": null,
            "grid_area": null,
            "grid_template_columns": null,
            "flex": null,
            "_model_name": "LayoutModel",
            "justify_items": null,
            "grid_row": null,
            "max_height": null,
            "align_content": null,
            "visibility": null,
            "align_self": null,
            "height": null,
            "min_height": null,
            "padding": null,
            "grid_auto_rows": null,
            "grid_gap": null,
            "max_width": null,
            "order": null,
            "_view_module_version": "1.2.0",
            "grid_template_areas": null,
            "object_position": null,
            "object_fit": null,
            "grid_auto_columns": null,
            "margin": null,
            "display": null,
            "left": null
          }
        },
        "46a990b57a8d4ae290bea3ab87fcdd62": {
          "model_module": "@jupyter-widgets/controls",
          "model_name": "HTMLModel",
          "model_module_version": "1.5.0",
          "state": {
            "_view_name": "HTMLView",
            "style": "IPY_MODEL_88e7367e88b44c21bf590f7ca1ce6355",
            "_dom_classes": [],
            "description": "",
            "_model_name": "HTMLModel",
            "placeholder": "​",
            "_view_module": "@jupyter-widgets/controls",
            "_model_module_version": "1.5.0",
            "value": "Downloading: 100%",
            "_view_count": null,
            "_view_module_version": "1.5.0",
            "description_tooltip": null,
            "_model_module": "@jupyter-widgets/controls",
            "layout": "IPY_MODEL_12def15c99a24a12a427d1e43503a95c"
          }
        },
        "ea6ec2a2f29646b6b730f2e593a899cc": {
          "model_module": "@jupyter-widgets/controls",
          "model_name": "FloatProgressModel",
          "model_module_version": "1.5.0",
          "state": {
            "_view_name": "ProgressView",
            "style": "IPY_MODEL_a862fd2ad79a41e19e397bb528c75912",
            "_dom_classes": [],
            "description": "",
            "_model_name": "FloatProgressModel",
            "bar_style": "success",
            "max": 483,
            "_view_module": "@jupyter-widgets/controls",
            "_model_module_version": "1.5.0",
            "value": 483,
            "_view_count": null,
            "_view_module_version": "1.5.0",
            "orientation": "horizontal",
            "min": 0,
            "description_tooltip": null,
            "_model_module": "@jupyter-widgets/controls",
            "layout": "IPY_MODEL_21085659649941efb388e724b7f0fc44"
          }
        },
        "deefe97352eb4f1e86d7786be142c7f3": {
          "model_module": "@jupyter-widgets/controls",
          "model_name": "HTMLModel",
          "model_module_version": "1.5.0",
          "state": {
            "_view_name": "HTMLView",
            "style": "IPY_MODEL_6fc0f62ed223418a9154f02d2e30bdef",
            "_dom_classes": [],
            "description": "",
            "_model_name": "HTMLModel",
            "placeholder": "​",
            "_view_module": "@jupyter-widgets/controls",
            "_model_module_version": "1.5.0",
            "value": " 483/483 [00:00&lt;00:00, 10.1kB/s]",
            "_view_count": null,
            "_view_module_version": "1.5.0",
            "description_tooltip": null,
            "_model_module": "@jupyter-widgets/controls",
            "layout": "IPY_MODEL_e941b7a7c94d4bfda4b5b204a7a85f0a"
          }
        },
        "88e7367e88b44c21bf590f7ca1ce6355": {
          "model_module": "@jupyter-widgets/controls",
          "model_name": "DescriptionStyleModel",
          "model_module_version": "1.5.0",
          "state": {
            "_view_name": "StyleView",
            "_model_name": "DescriptionStyleModel",
            "description_width": "",
            "_view_module": "@jupyter-widgets/base",
            "_model_module_version": "1.5.0",
            "_view_count": null,
            "_view_module_version": "1.2.0",
            "_model_module": "@jupyter-widgets/controls"
          }
        },
        "12def15c99a24a12a427d1e43503a95c": {
          "model_module": "@jupyter-widgets/base",
          "model_name": "LayoutModel",
          "model_module_version": "1.2.0",
          "state": {
            "_view_name": "LayoutView",
            "grid_template_rows": null,
            "right": null,
            "justify_content": null,
            "_view_module": "@jupyter-widgets/base",
            "overflow": null,
            "_model_module_version": "1.2.0",
            "_view_count": null,
            "flex_flow": null,
            "width": null,
            "min_width": null,
            "border": null,
            "align_items": null,
            "bottom": null,
            "_model_module": "@jupyter-widgets/base",
            "top": null,
            "grid_column": null,
            "overflow_y": null,
            "overflow_x": null,
            "grid_auto_flow": null,
            "grid_area": null,
            "grid_template_columns": null,
            "flex": null,
            "_model_name": "LayoutModel",
            "justify_items": null,
            "grid_row": null,
            "max_height": null,
            "align_content": null,
            "visibility": null,
            "align_self": null,
            "height": null,
            "min_height": null,
            "padding": null,
            "grid_auto_rows": null,
            "grid_gap": null,
            "max_width": null,
            "order": null,
            "_view_module_version": "1.2.0",
            "grid_template_areas": null,
            "object_position": null,
            "object_fit": null,
            "grid_auto_columns": null,
            "margin": null,
            "display": null,
            "left": null
          }
        },
        "a862fd2ad79a41e19e397bb528c75912": {
          "model_module": "@jupyter-widgets/controls",
          "model_name": "ProgressStyleModel",
          "model_module_version": "1.5.0",
          "state": {
            "_view_name": "StyleView",
            "_model_name": "ProgressStyleModel",
            "description_width": "",
            "_view_module": "@jupyter-widgets/base",
            "_model_module_version": "1.5.0",
            "_view_count": null,
            "_view_module_version": "1.2.0",
            "bar_color": null,
            "_model_module": "@jupyter-widgets/controls"
          }
        },
        "21085659649941efb388e724b7f0fc44": {
          "model_module": "@jupyter-widgets/base",
          "model_name": "LayoutModel",
          "model_module_version": "1.2.0",
          "state": {
            "_view_name": "LayoutView",
            "grid_template_rows": null,
            "right": null,
            "justify_content": null,
            "_view_module": "@jupyter-widgets/base",
            "overflow": null,
            "_model_module_version": "1.2.0",
            "_view_count": null,
            "flex_flow": null,
            "width": null,
            "min_width": null,
            "border": null,
            "align_items": null,
            "bottom": null,
            "_model_module": "@jupyter-widgets/base",
            "top": null,
            "grid_column": null,
            "overflow_y": null,
            "overflow_x": null,
            "grid_auto_flow": null,
            "grid_area": null,
            "grid_template_columns": null,
            "flex": null,
            "_model_name": "LayoutModel",
            "justify_items": null,
            "grid_row": null,
            "max_height": null,
            "align_content": null,
            "visibility": null,
            "align_self": null,
            "height": null,
            "min_height": null,
            "padding": null,
            "grid_auto_rows": null,
            "grid_gap": null,
            "max_width": null,
            "order": null,
            "_view_module_version": "1.2.0",
            "grid_template_areas": null,
            "object_position": null,
            "object_fit": null,
            "grid_auto_columns": null,
            "margin": null,
            "display": null,
            "left": null
          }
        },
        "6fc0f62ed223418a9154f02d2e30bdef": {
          "model_module": "@jupyter-widgets/controls",
          "model_name": "DescriptionStyleModel",
          "model_module_version": "1.5.0",
          "state": {
            "_view_name": "StyleView",
            "_model_name": "DescriptionStyleModel",
            "description_width": "",
            "_view_module": "@jupyter-widgets/base",
            "_model_module_version": "1.5.0",
            "_view_count": null,
            "_view_module_version": "1.2.0",
            "_model_module": "@jupyter-widgets/controls"
          }
        },
        "e941b7a7c94d4bfda4b5b204a7a85f0a": {
          "model_module": "@jupyter-widgets/base",
          "model_name": "LayoutModel",
          "model_module_version": "1.2.0",
          "state": {
            "_view_name": "LayoutView",
            "grid_template_rows": null,
            "right": null,
            "justify_content": null,
            "_view_module": "@jupyter-widgets/base",
            "overflow": null,
            "_model_module_version": "1.2.0",
            "_view_count": null,
            "flex_flow": null,
            "width": null,
            "min_width": null,
            "border": null,
            "align_items": null,
            "bottom": null,
            "_model_module": "@jupyter-widgets/base",
            "top": null,
            "grid_column": null,
            "overflow_y": null,
            "overflow_x": null,
            "grid_auto_flow": null,
            "grid_area": null,
            "grid_template_columns": null,
            "flex": null,
            "_model_name": "LayoutModel",
            "justify_items": null,
            "grid_row": null,
            "max_height": null,
            "align_content": null,
            "visibility": null,
            "align_self": null,
            "height": null,
            "min_height": null,
            "padding": null,
            "grid_auto_rows": null,
            "grid_gap": null,
            "max_width": null,
            "order": null,
            "_view_module_version": "1.2.0",
            "grid_template_areas": null,
            "object_position": null,
            "object_fit": null,
            "grid_auto_columns": null,
            "margin": null,
            "display": null,
            "left": null
          }
        }
      }
    }
  },
  "cells": [
    {
      "cell_type": "markdown",
      "metadata": {
        "id": "ZiLzNmlf5YIV"
      },
      "source": [
        "## **The US VS China Trade War**"
      ]
    },
    {
      "cell_type": "markdown",
      "metadata": {
        "id": "vytqJOz148IK"
      },
      "source": [
        "We first need to mount the drive to have access to Quotebank datasets from 2015 to 2020. For the purpose of the demonstration of the feasibility of our project we will focus on the year 2018 when the trade war between US and China started."
      ]
    },
    {
      "cell_type": "code",
      "metadata": {
        "colab": {
          "base_uri": "https://localhost:8080/"
        },
        "id": "1q0hwr_m58CW",
        "outputId": "fef14563-40ae-41bd-b7e2-779f2faae21c"
      },
      "source": [
        "import os\n",
        "from google.colab import drive\n",
        "drive.mount('/content/drive')\n",
        "!ls \"/content/drive/My Drive\""
      ],
      "execution_count": null,
      "outputs": [
        {
          "output_type": "stream",
          "name": "stdout",
          "text": [
            "Mounted at /content/drive\n",
            "'Colab Notebooks'   Equity.csv\t Quotebank      VIX.csv\n",
            " Dollar.csv\t    Oil.csv\t Routine.xlsx\n"
          ]
        }
      ]
    },
    {
      "cell_type": "code",
      "metadata": {
        "colab": {
          "base_uri": "https://localhost:8080/"
        },
        "id": "hfdrjM6o2v3c",
        "outputId": "5e3d4a43-c7d3-469e-c2e8-aceffa9a6119"
      },
      "source": [
        "import pandas as pd\n",
        "import numpy as np\n",
        "import matplotlib.pyplot as plt\n",
        "import seaborn as sns\n",
        "%matplotlib inline\n",
        "import bz2\n",
        "import json\n",
        "import nltk  # nltk is a library that helps us compute synonyms and antonyms of words\n",
        "nltk.download('wordnet')\n",
        "from nltk.corpus import wordnet"
      ],
      "execution_count": null,
      "outputs": [
        {
          "output_type": "stream",
          "name": "stdout",
          "text": [
            "[nltk_data] Downloading package wordnet to /root/nltk_data...\n",
            "[nltk_data]   Unzipping corpora/wordnet.zip.\n"
          ]
        }
      ]
    },
    {
      "cell_type": "markdown",
      "metadata": {
        "id": "wCVCpUQp58EC"
      },
      "source": [
        "This function will allow us to extend a list of words by adding synonyms and antonyms using nltk library."
      ]
    },
    {
      "cell_type": "code",
      "metadata": {
        "id": "su_uhSOHt46x"
      },
      "source": [
        "def extend_vocabulary(words):\n",
        "    extended_vocab = []\n",
        "    for word in words:\n",
        "        for syn in wordnet.synsets(word):\n",
        "            for lm in syn.lemmas():\n",
        "                word = lm.name()\n",
        "                word = word.lower()\n",
        "                word = word.replace('_', ' ')\n",
        "                extended_vocab.append(word)\n",
        "    extended_vocab = np.unique(extended_vocab)\n",
        "    return extended_vocab\n",
        "\n",
        "target_words = extend_vocabulary([\"china\"])\n",
        "print(target_words)"
      ],
      "execution_count": null,
      "outputs": []
    },
    {
      "cell_type": "code",
      "metadata": {
        "colab": {
          "base_uri": "https://localhost:8080/"
        },
        "id": "nwdd7gk2yKeT",
        "outputId": "f4c31311-d426-46c0-ce00-842b8b587c7e"
      },
      "source": [
        "trade_words = [\"trade\", \"business\", \"stock\", \"price\"]\n",
        "extend_vocabulary(trade_words)"
      ],
      "execution_count": null,
      "outputs": [
        {
          "output_type": "execute_result",
          "data": {
            "text/plain": [
              "array(['ancestry', 'banal', 'barter', 'blood', 'blood line', 'bloodline',\n",
              "       'breed', 'broth', 'business', 'business concern', 'business deal',\n",
              "       'business enterprise', 'business organisation',\n",
              "       'business organization', 'business sector', 'buy in', 'byplay',\n",
              "       'carry', 'caudex', 'clientele', 'commercial enterprise',\n",
              "       'commonplace', 'concern', 'cost', 'craft', 'damage', 'deal',\n",
              "       'descent', 'farm animal', 'fund', 'gillyflower', 'gunstock',\n",
              "       'hackneyed', 'inventory', 'job', 'leontyne price', 'line',\n",
              "       'line of descent', 'line of work', 'lineage', 'livestock',\n",
              "       'malcolm stock', 'mary leontyne price', 'merchandise',\n",
              "       'monetary value', 'neckcloth', 'occupation', 'old-hat', 'origin',\n",
              "       'parentage', 'patronage', 'pedigree', 'price', 'sell', 'shopworn',\n",
              "       'sprout', 'stage business', 'standard', 'stemma', 'stock',\n",
              "       'stock certificate', 'stock up', 'stockpile', 'store', 'strain',\n",
              "       'swap', 'switch', 'swop', 'terms', 'threadbare', 'timeworn',\n",
              "       'tired', 'toll', 'trade', 'trade in', 'trade wind', 'trite',\n",
              "       'well-worn'], dtype='<U21')"
            ]
          },
          "metadata": {},
          "execution_count": 8
        }
      ]
    },
    {
      "cell_type": "markdown",
      "metadata": {
        "id": "R_23uvYW7c18"
      },
      "source": [
        "# **Quotebank data collection:**\n",
        "As explained above, we will focus on year 2018. We first retrieve quotes related to the word \"china\" and its extended vocabulary list."
      ]
    },
    {
      "cell_type": "code",
      "metadata": {
        "id": "K4TbpNXfl2L2"
      },
      "source": [
        "def extract_quotes_with_words(path_input_file, path_output_file, target_words):\n",
        "    with bz2.open(path_input_file, 'rb') as input_file:\n",
        "        with bz2.open(path_output_file, 'wb') as output_file:\n",
        "            for instance in input_file:\n",
        "                instance = json.loads(instance)\n",
        "                quote = instance['quotation']\n",
        "                for word in target_words:\n",
        "                    if word in quote.lower():\n",
        "                        output_file.write((json.dumps(instance)+'\\n').encode('utf-8'))\n",
        "                        break  #allow us to avoid duplicates if a quote countains several target_words\n",
        "    return None"
      ],
      "execution_count": null,
      "outputs": []
    },
    {
      "cell_type": "code",
      "metadata": {
        "id": "_jq6vs7_Y35p"
      },
      "source": [
        "extract_quotes_with_words('/content/drive/MyDrive/Quotebank/quotes-2018.json.bz2', '/content/quotes-2018-china.json.bz2', target_words)"
      ],
      "execution_count": null,
      "outputs": []
    },
    {
      "cell_type": "markdown",
      "metadata": {
        "id": "L3Y9pt108gxX"
      },
      "source": [
        "Then, among \"china\" related quotes, we extract quotes dealing specificly with trade topics. The corresponding file will be available in the repository."
      ]
    },
    {
      "cell_type": "code",
      "metadata": {
        "id": "a6zgCubkuUoI"
      },
      "source": [
        "extract_quotes_with_words('/content/quotes-2018-china.json.bz2', '/content/quotes-2018-china_trade.json.bz2', trade_words)"
      ],
      "execution_count": null,
      "outputs": []
    },
    {
      "cell_type": "code",
      "metadata": {
        "id": "W4FHIT2ryc1-"
      },
      "source": [
        "path_china_2018 = '/content/quotes-2018-china.json.bz2' \n",
        "path_china_trade_2018 = '/content/quotes-2018-china_trade.json.bz2'"
      ],
      "execution_count": null,
      "outputs": []
    },
    {
      "cell_type": "markdown",
      "metadata": {
        "id": "iS9b3tsl79-6"
      },
      "source": [
        "This function allows us to compute the number of quotes extracted in the new archive file without laoding all the data."
      ]
    },
    {
      "cell_type": "code",
      "metadata": {
        "id": "fQAxwtobumPh"
      },
      "source": [
        "def count_quotes(path_file):\n",
        "    instances = 0\n",
        "    with bz2.open(path_file, 'rb') as file:\n",
        "        for instance in file:\n",
        "            instances += 1\n",
        "    return instances\n",
        "\n",
        "count_quotes(path_china_trade_2018)"
      ],
      "execution_count": null,
      "outputs": []
    },
    {
      "cell_type": "markdown",
      "metadata": {
        "id": "Cn-H_mQL9fHx"
      },
      "source": [
        "Now that the number of quotes has been significantly reduced, we can laod it into a dataframe to perform analysis."
      ]
    },
    {
      "cell_type": "code",
      "metadata": {
        "id": "AQRct6z8wjRG"
      },
      "source": [
        "def create_dataframe_from_json_bz2(path_file):\n",
        "    with bz2.open(path_file, 'rb') as file:\n",
        "        df = pd.read_json(file, lines=True)\n",
        "    return df"
      ],
      "execution_count": null,
      "outputs": []
    },
    {
      "cell_type": "code",
      "metadata": {
        "id": "7Lh5QX0Hjpvb"
      },
      "source": [
        "china_trade_2018 = create_dataframe_from_json_bz2(path_china_trade_2018)"
      ],
      "execution_count": null,
      "outputs": []
    },
    {
      "cell_type": "code",
      "metadata": {
        "colab": {
          "base_uri": "https://localhost:8080/",
          "height": 289
        },
        "id": "wvmLJA_2tppG",
        "outputId": "d4b9b8bd-2551-4e07-d12b-0856d1e99938"
      },
      "source": [
        "china_trade_2018.head()"
      ],
      "execution_count": null,
      "outputs": [
        {
          "output_type": "execute_result",
          "data": {
            "text/html": [
              "<div>\n",
              "<style scoped>\n",
              "    .dataframe tbody tr th:only-of-type {\n",
              "        vertical-align: middle;\n",
              "    }\n",
              "\n",
              "    .dataframe tbody tr th {\n",
              "        vertical-align: top;\n",
              "    }\n",
              "\n",
              "    .dataframe thead th {\n",
              "        text-align: right;\n",
              "    }\n",
              "</style>\n",
              "<table border=\"1\" class=\"dataframe\">\n",
              "  <thead>\n",
              "    <tr style=\"text-align: right;\">\n",
              "      <th></th>\n",
              "      <th>quoteID</th>\n",
              "      <th>quotation</th>\n",
              "      <th>speaker</th>\n",
              "      <th>qids</th>\n",
              "      <th>date</th>\n",
              "      <th>numOccurrences</th>\n",
              "      <th>probas</th>\n",
              "      <th>urls</th>\n",
              "      <th>phase</th>\n",
              "    </tr>\n",
              "  </thead>\n",
              "  <tbody>\n",
              "    <tr>\n",
              "      <th>0</th>\n",
              "      <td>2018-04-13-001441</td>\n",
              "      <td>A Digital Free Trade Zone between China and Ma...</td>\n",
              "      <td>Peter Wong</td>\n",
              "      <td>[Q7177768, Q7177774, Q7177776, Q9456225]</td>\n",
              "      <td>2018-04-13 19:30:55</td>\n",
              "      <td>1</td>\n",
              "      <td>[[Peter Wong, 0.782], [None, 0.218]]</td>\n",
              "      <td>[http://nst.com.my/business/2018/04/356893/chi...</td>\n",
              "      <td>E</td>\n",
              "    </tr>\n",
              "    <tr>\n",
              "      <th>1</th>\n",
              "      <td>2018-04-13-001441</td>\n",
              "      <td>A Digital Free Trade Zone between China and Ma...</td>\n",
              "      <td>Peter Wong</td>\n",
              "      <td>[Q7177768, Q7177774, Q7177776, Q9456225]</td>\n",
              "      <td>2018-04-13 19:30:55</td>\n",
              "      <td>1</td>\n",
              "      <td>[[Peter Wong, 0.782], [None, 0.218]]</td>\n",
              "      <td>[http://nst.com.my/business/2018/04/356893/chi...</td>\n",
              "      <td>E</td>\n",
              "    </tr>\n",
              "    <tr>\n",
              "      <th>2</th>\n",
              "      <td>2018-03-23-003097</td>\n",
              "      <td>A rough week for the markets... as fears of a ...</td>\n",
              "      <td>None</td>\n",
              "      <td>[]</td>\n",
              "      <td>2018-03-23 10:28:51</td>\n",
              "      <td>2</td>\n",
              "      <td>[[None, 0.9112], [President Donald Trump, 0.08...</td>\n",
              "      <td>[http://www.breitbart.com/news/world-stock-mar...</td>\n",
              "      <td>E</td>\n",
              "    </tr>\n",
              "    <tr>\n",
              "      <th>3</th>\n",
              "      <td>2018-04-08-011525</td>\n",
              "      <td>Every day of the week China, comes into our ho...</td>\n",
              "      <td>Peter Navarro</td>\n",
              "      <td>[Q7176052]</td>\n",
              "      <td>2018-04-08 04:00:00</td>\n",
              "      <td>17</td>\n",
              "      <td>[[Peter Navarro, 0.6696], [None, 0.208], [LARR...</td>\n",
              "      <td>[http://dailylocal.com/general-news/20180408/a...</td>\n",
              "      <td>E</td>\n",
              "    </tr>\n",
              "    <tr>\n",
              "      <th>4</th>\n",
              "      <td>2018-05-14-023366</td>\n",
              "      <td>For the President to become suddenly concerned...</td>\n",
              "      <td>Jonathan Fenby</td>\n",
              "      <td>[Q15072639]</td>\n",
              "      <td>2018-05-14 20:43:32</td>\n",
              "      <td>2</td>\n",
              "      <td>[[Jonathan Fenby, 0.8834], [None, 0.1166]]</td>\n",
              "      <td>[https://www.fxstreet.com/news/wall-street-dow...</td>\n",
              "      <td>E</td>\n",
              "    </tr>\n",
              "  </tbody>\n",
              "</table>\n",
              "</div>"
            ],
            "text/plain": [
              "             quoteID  ... phase\n",
              "0  2018-04-13-001441  ...     E\n",
              "1  2018-04-13-001441  ...     E\n",
              "2  2018-03-23-003097  ...     E\n",
              "3  2018-04-08-011525  ...     E\n",
              "4  2018-05-14-023366  ...     E\n",
              "\n",
              "[5 rows x 9 columns]"
            ]
          },
          "metadata": {},
          "execution_count": 16
        }
      ]
    },
    {
      "cell_type": "code",
      "metadata": {
        "colab": {
          "base_uri": "https://localhost:8080/"
        },
        "id": "DqcZ3o4Avz2m",
        "outputId": "64312ac5-bb2f-498a-e06b-7c9db9e1df77"
      },
      "source": [
        "len(china_trade_2018)"
      ],
      "execution_count": null,
      "outputs": [
        {
          "output_type": "execute_result",
          "data": {
            "text/plain": [
              "18020"
            ]
          },
          "metadata": {},
          "execution_count": 17
        }
      ]
    },
    {
      "cell_type": "markdown",
      "metadata": {
        "id": "PI3x1MTE_OMq"
      },
      "source": [
        "We will now create some basics feature using NLP python librairies to demonstrate the feasibility of our project. TextBlob and vaderSentiment are using a rule-based approach, meaning that they aggregate the sentiment of each word in a sentence to give the sentence a polarity."
      ]
    },
    {
      "cell_type": "code",
      "metadata": {
        "colab": {
          "base_uri": "https://localhost:8080/"
        },
        "id": "3rpczj8WwXKO",
        "outputId": "1f73e3de-d7f8-49a3-9c92-d4df03954a6e"
      },
      "source": [
        "from textblob import TextBlob\n",
        "\n",
        "testimonial = TextBlob(\"The food was great!\")\n",
        "print(testimonial.sentiment)"
      ],
      "execution_count": null,
      "outputs": [
        {
          "output_type": "stream",
          "name": "stdout",
          "text": [
            "Sentiment(polarity=1.0, subjectivity=0.75)\n"
          ]
        }
      ]
    },
    {
      "cell_type": "code",
      "metadata": {
        "id": "ssmb7TmywmRF"
      },
      "source": [
        "def create_textblob_features(df):\n",
        "    df['textblob_polarity'] = df.quotation.apply(lambda quote: TextBlob(quote).sentiment[0])\n",
        "    df['textblob_subjectivity'] = df.quotation.apply(lambda quote: TextBlob(quote).sentiment[1])\n",
        "    return None\n",
        "\n",
        "create_textblob_features(china_trade_2018)"
      ],
      "execution_count": null,
      "outputs": []
    },
    {
      "cell_type": "code",
      "metadata": {
        "colab": {
          "base_uri": "https://localhost:8080/"
        },
        "id": "ymEoKGNY3nXp",
        "outputId": "c95acad7-048a-43d2-c370-fb200b99e5db"
      },
      "source": [
        "!pip install vaderSentiment"
      ],
      "execution_count": null,
      "outputs": [
        {
          "output_type": "stream",
          "name": "stdout",
          "text": [
            "Collecting vaderSentiment\n",
            "  Downloading vaderSentiment-3.3.2-py2.py3-none-any.whl (125 kB)\n",
            "\u001b[?25l\r\u001b[K     |██▋                             | 10 kB 23.3 MB/s eta 0:00:01\r\u001b[K     |█████▏                          | 20 kB 28.3 MB/s eta 0:00:01\r\u001b[K     |███████▉                        | 30 kB 30.2 MB/s eta 0:00:01\r\u001b[K     |██████████▍                     | 40 kB 21.7 MB/s eta 0:00:01\r\u001b[K     |█████████████                   | 51 kB 20.1 MB/s eta 0:00:01\r\u001b[K     |███████████████▋                | 61 kB 12.7 MB/s eta 0:00:01\r\u001b[K     |██████████████████▏             | 71 kB 13.9 MB/s eta 0:00:01\r\u001b[K     |████████████████████▉           | 81 kB 14.8 MB/s eta 0:00:01\r\u001b[K     |███████████████████████▍        | 92 kB 16.1 MB/s eta 0:00:01\r\u001b[K     |██████████████████████████      | 102 kB 16.3 MB/s eta 0:00:01\r\u001b[K     |████████████████████████████▋   | 112 kB 16.3 MB/s eta 0:00:01\r\u001b[K     |███████████████████████████████▏| 122 kB 16.3 MB/s eta 0:00:01\r\u001b[K     |████████████████████████████████| 125 kB 16.3 MB/s \n",
            "\u001b[?25hRequirement already satisfied: requests in /usr/local/lib/python3.7/dist-packages (from vaderSentiment) (2.23.0)\n",
            "Requirement already satisfied: chardet<4,>=3.0.2 in /usr/local/lib/python3.7/dist-packages (from requests->vaderSentiment) (3.0.4)\n",
            "Requirement already satisfied: urllib3!=1.25.0,!=1.25.1,<1.26,>=1.21.1 in /usr/local/lib/python3.7/dist-packages (from requests->vaderSentiment) (1.24.3)\n",
            "Requirement already satisfied: certifi>=2017.4.17 in /usr/local/lib/python3.7/dist-packages (from requests->vaderSentiment) (2021.10.8)\n",
            "Requirement already satisfied: idna<3,>=2.5 in /usr/local/lib/python3.7/dist-packages (from requests->vaderSentiment) (2.10)\n",
            "Installing collected packages: vaderSentiment\n",
            "Successfully installed vaderSentiment-3.3.2\n"
          ]
        }
      ]
    },
    {
      "cell_type": "code",
      "metadata": {
        "colab": {
          "base_uri": "https://localhost:8080/"
        },
        "id": "1oiigEc1yvfK",
        "outputId": "f28dc402-51b8-4029-806c-bc23d6899391"
      },
      "source": [
        "from vaderSentiment.vaderSentiment import SentimentIntensityAnalyzer\n",
        "\n",
        "\n",
        "analyzer = SentimentIntensityAnalyzer()\n",
        "sentence = \"The food was great!\" \n",
        "vs = analyzer.polarity_scores(sentence)\n",
        "print(vs)"
      ],
      "execution_count": null,
      "outputs": [
        {
          "output_type": "stream",
          "name": "stdout",
          "text": [
            "{'neg': 0.0, 'neu': 0.406, 'pos': 0.594, 'compound': 0.6588}\n"
          ]
        }
      ]
    },
    {
      "cell_type": "code",
      "metadata": {
        "id": "XSS6zpG53jFv"
      },
      "source": [
        "def create_vader_features(df):\n",
        "    analyzer = SentimentIntensityAnalyzer()\n",
        "    df['vader_compound'] = df.quotation.apply(lambda quote: analyzer.polarity_scores(quote)['compound'])\n",
        "    df['vader_neg'] = df.quotation.apply(lambda quote: analyzer.polarity_scores(quote)['neg'])\n",
        "    df['vader_pos'] = df.quotation.apply(lambda quote: analyzer.polarity_scores(quote)['pos'])\n",
        "    df['vader_neu'] = df.quotation.apply(lambda quote: analyzer.polarity_scores(quote)['neu'])\n",
        "    return None\n",
        "\n",
        "create_vader_features(china_trade_2018)"
      ],
      "execution_count": null,
      "outputs": []
    },
    {
      "cell_type": "markdown",
      "metadata": {
        "id": "08UzrqG1_7CQ"
      },
      "source": [
        "Flair library is using a different approach for sentiment analysis, using embeddings to capture the context of the sentence before computing the sentence label."
      ]
    },
    {
      "cell_type": "code",
      "metadata": {
        "colab": {
          "base_uri": "https://localhost:8080/"
        },
        "id": "bwAJ9cyr8KP7",
        "outputId": "0500fafe-8cbf-4a61-e0d4-f91b8bcba290"
      },
      "source": [
        "!pip install flair"
      ],
      "execution_count": null,
      "outputs": [
        {
          "output_type": "stream",
          "name": "stdout",
          "text": [
            "Collecting flair\n",
            "  Downloading flair-0.9-py3-none-any.whl (319 kB)\n",
            "\u001b[?25l\r\u001b[K     |█                               | 10 kB 18.9 MB/s eta 0:00:01\r\u001b[K     |██                              | 20 kB 20.4 MB/s eta 0:00:01\r\u001b[K     |███                             | 30 kB 23.5 MB/s eta 0:00:01\r\u001b[K     |████                            | 40 kB 27.1 MB/s eta 0:00:01\r\u001b[K     |█████▏                          | 51 kB 25.6 MB/s eta 0:00:01\r\u001b[K     |██████▏                         | 61 kB 14.4 MB/s eta 0:00:01\r\u001b[K     |███████▏                        | 71 kB 13.8 MB/s eta 0:00:01\r\u001b[K     |████████▏                       | 81 kB 13.5 MB/s eta 0:00:01\r\u001b[K     |█████████▎                      | 92 kB 14.3 MB/s eta 0:00:01\r\u001b[K     |██████████▎                     | 102 kB 14.8 MB/s eta 0:00:01\r\u001b[K     |███████████▎                    | 112 kB 14.8 MB/s eta 0:00:01\r\u001b[K     |████████████▎                   | 122 kB 14.8 MB/s eta 0:00:01\r\u001b[K     |█████████████▍                  | 133 kB 14.8 MB/s eta 0:00:01\r\u001b[K     |██████████████▍                 | 143 kB 14.8 MB/s eta 0:00:01\r\u001b[K     |███████████████▍                | 153 kB 14.8 MB/s eta 0:00:01\r\u001b[K     |████████████████▍               | 163 kB 14.8 MB/s eta 0:00:01\r\u001b[K     |█████████████████▌              | 174 kB 14.8 MB/s eta 0:00:01\r\u001b[K     |██████████████████▌             | 184 kB 14.8 MB/s eta 0:00:01\r\u001b[K     |███████████████████▌            | 194 kB 14.8 MB/s eta 0:00:01\r\u001b[K     |████████████████████▌           | 204 kB 14.8 MB/s eta 0:00:01\r\u001b[K     |█████████████████████▌          | 215 kB 14.8 MB/s eta 0:00:01\r\u001b[K     |██████████████████████▋         | 225 kB 14.8 MB/s eta 0:00:01\r\u001b[K     |███████████████████████▋        | 235 kB 14.8 MB/s eta 0:00:01\r\u001b[K     |████████████████████████▋       | 245 kB 14.8 MB/s eta 0:00:01\r\u001b[K     |█████████████████████████▋      | 256 kB 14.8 MB/s eta 0:00:01\r\u001b[K     |██████████████████████████▊     | 266 kB 14.8 MB/s eta 0:00:01\r\u001b[K     |███████████████████████████▊    | 276 kB 14.8 MB/s eta 0:00:01\r\u001b[K     |████████████████████████████▊   | 286 kB 14.8 MB/s eta 0:00:01\r\u001b[K     |█████████████████████████████▊  | 296 kB 14.8 MB/s eta 0:00:01\r\u001b[K     |██████████████████████████████▉ | 307 kB 14.8 MB/s eta 0:00:01\r\u001b[K     |███████████████████████████████▉| 317 kB 14.8 MB/s eta 0:00:01\r\u001b[K     |████████████████████████████████| 319 kB 14.8 MB/s \n",
            "\u001b[?25hCollecting deprecated>=1.2.4\n",
            "  Downloading Deprecated-1.2.13-py2.py3-none-any.whl (9.6 kB)\n",
            "Requirement already satisfied: lxml in /usr/local/lib/python3.7/dist-packages (from flair) (4.2.6)\n",
            "Requirement already satisfied: python-dateutil>=2.6.1 in /usr/local/lib/python3.7/dist-packages (from flair) (2.8.2)\n",
            "Requirement already satisfied: matplotlib>=2.2.3 in /usr/local/lib/python3.7/dist-packages (from flair) (3.2.2)\n",
            "Collecting sqlitedict>=1.6.0\n",
            "  Downloading sqlitedict-1.7.0.tar.gz (28 kB)\n",
            "Collecting bpemb>=0.3.2\n",
            "  Downloading bpemb-0.3.3-py3-none-any.whl (19 kB)\n",
            "Collecting langdetect\n",
            "  Downloading langdetect-1.0.9.tar.gz (981 kB)\n",
            "\u001b[K     |████████████████████████████████| 981 kB 45.5 MB/s \n",
            "\u001b[?25hCollecting ftfy\n",
            "  Downloading ftfy-6.0.3.tar.gz (64 kB)\n",
            "\u001b[K     |████████████████████████████████| 64 kB 2.2 MB/s \n",
            "\u001b[?25hRequirement already satisfied: scikit-learn>=0.21.3 in /usr/local/lib/python3.7/dist-packages (from flair) (0.22.2.post1)\n",
            "Requirement already satisfied: regex in /usr/local/lib/python3.7/dist-packages (from flair) (2019.12.20)\n",
            "Requirement already satisfied: gensim<=3.8.3,>=3.4.0 in /usr/local/lib/python3.7/dist-packages (from flair) (3.6.0)\n",
            "Collecting transformers>=4.0.0\n",
            "  Downloading transformers-4.12.3-py3-none-any.whl (3.1 MB)\n",
            "\u001b[K     |████████████████████████████████| 3.1 MB 38.7 MB/s \n",
            "\u001b[?25hCollecting mpld3==0.3\n",
            "  Downloading mpld3-0.3.tar.gz (788 kB)\n",
            "\u001b[K     |████████████████████████████████| 788 kB 32.6 MB/s \n",
            "\u001b[?25hCollecting gdown==3.12.2\n",
            "  Downloading gdown-3.12.2.tar.gz (8.2 kB)\n",
            "  Installing build dependencies ... \u001b[?25l\u001b[?25hdone\n",
            "  Getting requirements to build wheel ... \u001b[?25l\u001b[?25hdone\n",
            "    Preparing wheel metadata ... \u001b[?25l\u001b[?25hdone\n",
            "Collecting wikipedia-api\n",
            "  Downloading Wikipedia-API-0.5.4.tar.gz (18 kB)\n",
            "Requirement already satisfied: tabulate in /usr/local/lib/python3.7/dist-packages (from flair) (0.8.9)\n",
            "Collecting huggingface-hub\n",
            "  Downloading huggingface_hub-0.1.2-py3-none-any.whl (59 kB)\n",
            "\u001b[K     |████████████████████████████████| 59 kB 5.6 MB/s \n",
            "\u001b[?25hCollecting more-itertools~=8.8.0\n",
            "  Downloading more_itertools-8.8.0-py3-none-any.whl (48 kB)\n",
            "\u001b[K     |████████████████████████████████| 48 kB 4.7 MB/s \n",
            "\u001b[?25hCollecting sentencepiece==0.1.95\n",
            "  Downloading sentencepiece-0.1.95-cp37-cp37m-manylinux2014_x86_64.whl (1.2 MB)\n",
            "\u001b[K     |████████████████████████████████| 1.2 MB 38.5 MB/s \n",
            "\u001b[?25hRequirement already satisfied: tqdm>=4.26.0 in /usr/local/lib/python3.7/dist-packages (from flair) (4.62.3)\n",
            "Collecting janome\n",
            "  Downloading Janome-0.4.1-py2.py3-none-any.whl (19.7 MB)\n",
            "\u001b[K     |████████████████████████████████| 19.7 MB 1.3 MB/s \n",
            "\u001b[?25hCollecting segtok>=1.5.7\n",
            "  Downloading segtok-1.5.10.tar.gz (25 kB)\n",
            "Requirement already satisfied: torch!=1.8,>=1.5.0 in /usr/local/lib/python3.7/dist-packages (from flair) (1.10.0+cu111)\n",
            "Collecting conllu>=4.0\n",
            "  Downloading conllu-4.4.1-py2.py3-none-any.whl (15 kB)\n",
            "Collecting konoha<5.0.0,>=4.0.0\n",
            "  Downloading konoha-4.6.5-py3-none-any.whl (20 kB)\n",
            "Requirement already satisfied: hyperopt>=0.1.1 in /usr/local/lib/python3.7/dist-packages (from flair) (0.1.2)\n",
            "Requirement already satisfied: filelock in /usr/local/lib/python3.7/dist-packages (from gdown==3.12.2->flair) (3.3.2)\n",
            "Requirement already satisfied: six in /usr/local/lib/python3.7/dist-packages (from gdown==3.12.2->flair) (1.15.0)\n",
            "Requirement already satisfied: requests[socks] in /usr/local/lib/python3.7/dist-packages (from gdown==3.12.2->flair) (2.23.0)\n",
            "Requirement already satisfied: numpy in /usr/local/lib/python3.7/dist-packages (from bpemb>=0.3.2->flair) (1.19.5)\n",
            "Requirement already satisfied: wrapt<2,>=1.10 in /usr/local/lib/python3.7/dist-packages (from deprecated>=1.2.4->flair) (1.13.3)\n",
            "Requirement already satisfied: scipy>=0.18.1 in /usr/local/lib/python3.7/dist-packages (from gensim<=3.8.3,>=3.4.0->flair) (1.4.1)\n",
            "Requirement already satisfied: smart-open>=1.2.1 in /usr/local/lib/python3.7/dist-packages (from gensim<=3.8.3,>=3.4.0->flair) (5.2.1)\n",
            "Requirement already satisfied: networkx in /usr/local/lib/python3.7/dist-packages (from hyperopt>=0.1.1->flair) (2.6.3)\n",
            "Requirement already satisfied: future in /usr/local/lib/python3.7/dist-packages (from hyperopt>=0.1.1->flair) (0.16.0)\n",
            "Requirement already satisfied: pymongo in /usr/local/lib/python3.7/dist-packages (from hyperopt>=0.1.1->flair) (3.12.1)\n",
            "Collecting requests\n",
            "  Downloading requests-2.26.0-py2.py3-none-any.whl (62 kB)\n",
            "\u001b[K     |████████████████████████████████| 62 kB 738 kB/s \n",
            "\u001b[?25hCollecting importlib-metadata<4.0.0,>=3.7.0\n",
            "  Downloading importlib_metadata-3.10.1-py3-none-any.whl (14 kB)\n",
            "Collecting overrides<4.0.0,>=3.0.0\n",
            "  Downloading overrides-3.1.0.tar.gz (11 kB)\n",
            "Requirement already satisfied: typing-extensions>=3.6.4 in /usr/local/lib/python3.7/dist-packages (from importlib-metadata<4.0.0,>=3.7.0->konoha<5.0.0,>=4.0.0->flair) (3.10.0.2)\n",
            "Requirement already satisfied: zipp>=0.5 in /usr/local/lib/python3.7/dist-packages (from importlib-metadata<4.0.0,>=3.7.0->konoha<5.0.0,>=4.0.0->flair) (3.6.0)\n",
            "Requirement already satisfied: pyparsing!=2.0.4,!=2.1.2,!=2.1.6,>=2.0.1 in /usr/local/lib/python3.7/dist-packages (from matplotlib>=2.2.3->flair) (2.4.7)\n",
            "Requirement already satisfied: kiwisolver>=1.0.1 in /usr/local/lib/python3.7/dist-packages (from matplotlib>=2.2.3->flair) (1.3.2)\n",
            "Requirement already satisfied: cycler>=0.10 in /usr/local/lib/python3.7/dist-packages (from matplotlib>=2.2.3->flair) (0.11.0)\n",
            "Requirement already satisfied: certifi>=2017.4.17 in /usr/local/lib/python3.7/dist-packages (from requests->bpemb>=0.3.2->flair) (2021.10.8)\n",
            "Requirement already satisfied: idna<4,>=2.5 in /usr/local/lib/python3.7/dist-packages (from requests->bpemb>=0.3.2->flair) (2.10)\n",
            "Requirement already satisfied: charset-normalizer~=2.0.0 in /usr/local/lib/python3.7/dist-packages (from requests->bpemb>=0.3.2->flair) (2.0.7)\n",
            "Requirement already satisfied: urllib3<1.27,>=1.21.1 in /usr/local/lib/python3.7/dist-packages (from requests->bpemb>=0.3.2->flair) (1.24.3)\n",
            "Requirement already satisfied: joblib>=0.11 in /usr/local/lib/python3.7/dist-packages (from scikit-learn>=0.21.3->flair) (1.1.0)\n",
            "Requirement already satisfied: packaging>=20.0 in /usr/local/lib/python3.7/dist-packages (from transformers>=4.0.0->flair) (21.2)\n",
            "Collecting pyyaml>=5.1\n",
            "  Downloading PyYAML-6.0-cp37-cp37m-manylinux_2_5_x86_64.manylinux1_x86_64.manylinux_2_12_x86_64.manylinux2010_x86_64.whl (596 kB)\n",
            "\u001b[K     |████████████████████████████████| 596 kB 41.9 MB/s \n",
            "\u001b[?25hCollecting sacremoses\n",
            "  Downloading sacremoses-0.0.46-py3-none-any.whl (895 kB)\n",
            "\u001b[K     |████████████████████████████████| 895 kB 46.6 MB/s \n",
            "\u001b[?25hCollecting tokenizers<0.11,>=0.10.1\n",
            "  Downloading tokenizers-0.10.3-cp37-cp37m-manylinux_2_5_x86_64.manylinux1_x86_64.manylinux_2_12_x86_64.manylinux2010_x86_64.whl (3.3 MB)\n",
            "\u001b[K     |████████████████████████████████| 3.3 MB 30.6 MB/s \n",
            "\u001b[?25hRequirement already satisfied: wcwidth in /usr/local/lib/python3.7/dist-packages (from ftfy->flair) (0.2.5)\n",
            "Requirement already satisfied: PySocks!=1.5.7,>=1.5.6 in /usr/local/lib/python3.7/dist-packages (from requests->bpemb>=0.3.2->flair) (1.7.1)\n",
            "Requirement already satisfied: click in /usr/local/lib/python3.7/dist-packages (from sacremoses->transformers>=4.0.0->flair) (7.1.2)\n",
            "Building wheels for collected packages: gdown, mpld3, overrides, segtok, sqlitedict, ftfy, langdetect, wikipedia-api\n",
            "  Building wheel for gdown (PEP 517) ... \u001b[?25l\u001b[?25hdone\n",
            "  Created wheel for gdown: filename=gdown-3.12.2-py3-none-any.whl size=9704 sha256=85445e1367b821cf1b857bdd9df124af51bb3be8a5dc7cfa1c5b3756233348f5\n",
            "  Stored in directory: /root/.cache/pip/wheels/ba/e0/7e/726e872a53f7358b4b96a9975b04e98113b005cd8609a63abc\n",
            "  Building wheel for mpld3 (setup.py) ... \u001b[?25l\u001b[?25hdone\n",
            "  Created wheel for mpld3: filename=mpld3-0.3-py3-none-any.whl size=116702 sha256=607fab6ff9cd92ec952be0b811033949fb4d56588bd554b6d7ce823cfe0339ff\n",
            "  Stored in directory: /root/.cache/pip/wheels/26/70/6a/1c79e59951a41b4045497da187b2724f5659ca64033cf4548e\n",
            "  Building wheel for overrides (setup.py) ... \u001b[?25l\u001b[?25hdone\n",
            "  Created wheel for overrides: filename=overrides-3.1.0-py3-none-any.whl size=10186 sha256=e25e305025b4e940672d2b29c5b3563fa331d4329f8451f523a034121c4370da\n",
            "  Stored in directory: /root/.cache/pip/wheels/3a/0d/38/01a9bc6e20dcfaf0a6a7b552d03137558ba1c38aea47644682\n",
            "  Building wheel for segtok (setup.py) ... \u001b[?25l\u001b[?25hdone\n",
            "  Created wheel for segtok: filename=segtok-1.5.10-py3-none-any.whl size=25030 sha256=2e2a09f7db2ee7a4ab6931979ff4660adb46311524c458c67e413b189dba7330\n",
            "  Stored in directory: /root/.cache/pip/wheels/67/b7/d0/a121106e61339eee5ed083bc230b1c8dc422c49a5a28c2addd\n",
            "  Building wheel for sqlitedict (setup.py) ... \u001b[?25l\u001b[?25hdone\n",
            "  Created wheel for sqlitedict: filename=sqlitedict-1.7.0-py3-none-any.whl size=14392 sha256=4d3818f5c8702b2ba6fc0b2cb4d926387929d6de53e65dc6f2c0bb03e1d4b75a\n",
            "  Stored in directory: /root/.cache/pip/wheels/af/94/06/18c0e83e9e227da8f3582810b51f319bbfd181e508676a56c8\n",
            "  Building wheel for ftfy (setup.py) ... \u001b[?25l\u001b[?25hdone\n",
            "  Created wheel for ftfy: filename=ftfy-6.0.3-py3-none-any.whl size=41933 sha256=0f6c910d184a411dac47f9522d5677498fe841e73eead71d4252d4568830be1b\n",
            "  Stored in directory: /root/.cache/pip/wheels/19/f5/38/273eb3b5e76dfd850619312f693716ac4518b498f5ffb6f56d\n",
            "  Building wheel for langdetect (setup.py) ... \u001b[?25l\u001b[?25hdone\n",
            "  Created wheel for langdetect: filename=langdetect-1.0.9-py3-none-any.whl size=993242 sha256=033d6fdef7453297b6a93306d765843a6c03ace7f40d89424f6ee4d8cfbd92e4\n",
            "  Stored in directory: /root/.cache/pip/wheels/c5/96/8a/f90c59ed25d75e50a8c10a1b1c2d4c402e4dacfa87f3aff36a\n",
            "  Building wheel for wikipedia-api (setup.py) ... \u001b[?25l\u001b[?25hdone\n",
            "  Created wheel for wikipedia-api: filename=Wikipedia_API-0.5.4-py3-none-any.whl size=13475 sha256=9ee2413b564d33e888391e9de01783a55d5f814eabb68a05953db9d4bba031dc\n",
            "  Stored in directory: /root/.cache/pip/wheels/d3/24/56/58ba93cf78be162451144e7a9889603f437976ef1ae7013d04\n",
            "Successfully built gdown mpld3 overrides segtok sqlitedict ftfy langdetect wikipedia-api\n",
            "Installing collected packages: requests, pyyaml, importlib-metadata, tokenizers, sentencepiece, sacremoses, overrides, huggingface-hub, wikipedia-api, transformers, sqlitedict, segtok, mpld3, more-itertools, langdetect, konoha, janome, gdown, ftfy, deprecated, conllu, bpemb, flair\n",
            "  Attempting uninstall: requests\n",
            "    Found existing installation: requests 2.23.0\n",
            "    Uninstalling requests-2.23.0:\n",
            "      Successfully uninstalled requests-2.23.0\n",
            "  Attempting uninstall: pyyaml\n",
            "    Found existing installation: PyYAML 3.13\n",
            "    Uninstalling PyYAML-3.13:\n",
            "      Successfully uninstalled PyYAML-3.13\n",
            "  Attempting uninstall: importlib-metadata\n",
            "    Found existing installation: importlib-metadata 4.8.2\n",
            "    Uninstalling importlib-metadata-4.8.2:\n",
            "      Successfully uninstalled importlib-metadata-4.8.2\n",
            "  Attempting uninstall: more-itertools\n",
            "    Found existing installation: more-itertools 8.10.0\n",
            "    Uninstalling more-itertools-8.10.0:\n",
            "      Successfully uninstalled more-itertools-8.10.0\n",
            "  Attempting uninstall: gdown\n",
            "    Found existing installation: gdown 3.6.4\n",
            "    Uninstalling gdown-3.6.4:\n",
            "      Successfully uninstalled gdown-3.6.4\n",
            "\u001b[31mERROR: pip's dependency resolver does not currently take into account all the packages that are installed. This behaviour is the source of the following dependency conflicts.\n",
            "google-colab 1.0.0 requires requests~=2.23.0, but you have requests 2.26.0 which is incompatible.\n",
            "datascience 0.10.6 requires folium==0.2.1, but you have folium 0.8.3 which is incompatible.\u001b[0m\n",
            "Successfully installed bpemb-0.3.3 conllu-4.4.1 deprecated-1.2.13 flair-0.9 ftfy-6.0.3 gdown-3.12.2 huggingface-hub-0.1.2 importlib-metadata-3.10.1 janome-0.4.1 konoha-4.6.5 langdetect-1.0.9 more-itertools-8.8.0 mpld3-0.3 overrides-3.1.0 pyyaml-6.0 requests-2.26.0 sacremoses-0.0.46 segtok-1.5.10 sentencepiece-0.1.95 sqlitedict-1.7.0 tokenizers-0.10.3 transformers-4.12.3 wikipedia-api-0.5.4\n"
          ]
        }
      ]
    },
    {
      "cell_type": "code",
      "metadata": {
        "colab": {
          "base_uri": "https://localhost:8080/",
          "height": 267,
          "referenced_widgets": [
            "ccb6a66bb4384a63b384e3442ce71f6e",
            "1349dab57ad84631be6d54d9cf225c31",
            "2cccad0907c24b36a28c18fa9f4975ea",
            "cd5b36f934904fc9a977aac10915afd4",
            "5abed60fba72465780cb28c8e8528148",
            "b6001db7ebcc441b959e31bba5c7e09d",
            "b544fca8626d43d8aa2fbb99cdd8cc88",
            "f57781296deb4a7584bbfede71800aa4",
            "c894446a78eb4355bf1b294e6bb806d3",
            "4e2c064ef4144f308ca332854cfcaa88",
            "b46ca255b250460d9c5e445c57cad32a",
            "eef5f27c96294886a35dd0143723c4f1",
            "c5cfb585edd240fdb34e37a6f8d6927f",
            "cb584968243c451f99dd1cbde8876efe",
            "a74787c8f88c4ff3aa1779f4a685c33d",
            "dbc49bd04f804a2c9582e8eddbc7f0d4",
            "1ac30e18d5dd40b485415267be4a9c6a",
            "7010ea63cd7048f3b189b0acc967a522",
            "649d3d98145d4d0a8158ab8bf1c7a977",
            "041c21889f7d429c91fe53e64cbd83e7",
            "2393c9557f524e66b61d7c84b952fde1",
            "214f605b2c584fb5b3d5a6d430916f8f",
            "cdb5f90e4ac548d38142e5d56d258e60",
            "3108602a7eb34720b4f478c71a641ab7",
            "0bbbc4ff5d454d54aef927d5e871728e",
            "ebf2c6b299f84aaa914383622b48da58",
            "3e73619152b44e168fa85eaa0234e0f5",
            "ccbce8924dee4ecba690a74b9b449c7d",
            "6bdce4b491c84c2aa822e0dc65247b98",
            "f5bc7f5e7efe4f0cb2a458d379f786ef",
            "0eed8fd0f6d6460eb7d3880de82cdaf4",
            "0af2aa30ce304f5c8dd961b8e95a40a7",
            "a83cb124ab42412da99bd10aeb0699f8",
            "3e46cc994c5446a3a8f7c286bfb73a79",
            "9d53dc29209041f0959d71787acdb7b2",
            "46a990b57a8d4ae290bea3ab87fcdd62",
            "ea6ec2a2f29646b6b730f2e593a899cc",
            "deefe97352eb4f1e86d7786be142c7f3",
            "88e7367e88b44c21bf590f7ca1ce6355",
            "12def15c99a24a12a427d1e43503a95c",
            "a862fd2ad79a41e19e397bb528c75912",
            "21085659649941efb388e724b7f0fc44",
            "6fc0f62ed223418a9154f02d2e30bdef",
            "e941b7a7c94d4bfda4b5b204a7a85f0a"
          ]
        },
        "id": "t-aGIeML5Zla",
        "outputId": "bda97dc8-9fa1-4b02-ef2f-331cb5c65b06"
      },
      "source": [
        "from flair.models import TextClassifier\n",
        "from flair.data import Sentence\n",
        "\n",
        "classifier = TextClassifier.load('en-sentiment')\n",
        "sentence = Sentence('The food was great!')\n",
        "classifier.predict(sentence)\n",
        "\n",
        "# print sentence with predicted labels\n",
        "print('Sentence above is: ', sentence.labels)"
      ],
      "execution_count": null,
      "outputs": [
        {
          "output_type": "stream",
          "name": "stdout",
          "text": [
            "2021-11-12 16:01:12,110 https://nlp.informatik.hu-berlin.de/resources/models/sentiment-curated-distilbert/sentiment-en-mix-distillbert_4.pt not found in cache, downloading to /tmp/tmpx40lc9ua\n"
          ]
        },
        {
          "output_type": "stream",
          "name": "stderr",
          "text": [
            "100%|██████████| 265512723/265512723 [00:09<00:00, 27440249.03B/s]"
          ]
        },
        {
          "output_type": "stream",
          "name": "stdout",
          "text": [
            "2021-11-12 16:01:21,866 copying /tmp/tmpx40lc9ua to cache at /root/.flair/models/sentiment-en-mix-distillbert_4.pt\n"
          ]
        },
        {
          "output_type": "stream",
          "name": "stderr",
          "text": [
            "\n"
          ]
        },
        {
          "output_type": "stream",
          "name": "stdout",
          "text": [
            "2021-11-12 16:01:22,843 removing temp file /tmp/tmpx40lc9ua\n",
            "2021-11-12 16:01:23,907 loading file /root/.flair/models/sentiment-en-mix-distillbert_4.pt\n"
          ]
        },
        {
          "output_type": "display_data",
          "data": {
            "application/vnd.jupyter.widget-view+json": {
              "model_id": "ccb6a66bb4384a63b384e3442ce71f6e",
              "version_minor": 0,
              "version_major": 2
            },
            "text/plain": [
              "Downloading:   0%|          | 0.00/28.0 [00:00<?, ?B/s]"
            ]
          },
          "metadata": {}
        },
        {
          "output_type": "display_data",
          "data": {
            "application/vnd.jupyter.widget-view+json": {
              "model_id": "eef5f27c96294886a35dd0143723c4f1",
              "version_minor": 0,
              "version_major": 2
            },
            "text/plain": [
              "Downloading:   0%|          | 0.00/226k [00:00<?, ?B/s]"
            ]
          },
          "metadata": {}
        },
        {
          "output_type": "display_data",
          "data": {
            "application/vnd.jupyter.widget-view+json": {
              "model_id": "cdb5f90e4ac548d38142e5d56d258e60",
              "version_minor": 0,
              "version_major": 2
            },
            "text/plain": [
              "Downloading:   0%|          | 0.00/455k [00:00<?, ?B/s]"
            ]
          },
          "metadata": {}
        },
        {
          "output_type": "display_data",
          "data": {
            "application/vnd.jupyter.widget-view+json": {
              "model_id": "3e46cc994c5446a3a8f7c286bfb73a79",
              "version_minor": 0,
              "version_major": 2
            },
            "text/plain": [
              "Downloading:   0%|          | 0.00/483 [00:00<?, ?B/s]"
            ]
          },
          "metadata": {}
        },
        {
          "output_type": "stream",
          "name": "stdout",
          "text": [
            "Sentence above is:  [POSITIVE (0.9961)]\n"
          ]
        }
      ]
    },
    {
      "cell_type": "code",
      "metadata": {
        "id": "K7_DO_Mh874g"
      },
      "source": [
        "def create_flair_features(df):\n",
        "    classifier = TextClassifier.load('en-sentiment')\n",
        "    \n",
        "    def quote_flair_score(sentence):\n",
        "        flair_sentence = Sentence(sentence)\n",
        "        classifier.predict(flair_sentence)\n",
        "        if flair_sentence.labels[0].value == 'POSITIVE':\n",
        "            return flair_sentence.labels[0].score\n",
        "        else:\n",
        "            return - flair_sentence.labels[0].score\n",
        "\n",
        "    df['flair_pred'] = df.quotation.apply(lambda quote: quote_flair_score(quote))\n",
        "    return None"
      ],
      "execution_count": 100,
      "outputs": []
    },
    {
      "cell_type": "code",
      "metadata": {
        "colab": {
          "base_uri": "https://localhost:8080/",
          "height": 649
        },
        "id": "gi6JpTBJ8OLn",
        "outputId": "7b393b93-9fe1-4581-e58c-62db7fa73204"
      },
      "source": [
        "create_flair_features(china_trade_2018)\n",
        "china_trade_2018.head()"
      ],
      "execution_count": null,
      "outputs": [
        {
          "output_type": "stream",
          "name": "stdout",
          "text": [
            "2021-11-12 16:01:53,419 loading file /root/.flair/models/sentiment-en-mix-distillbert_4.pt\n"
          ]
        },
        {
          "output_type": "execute_result",
          "data": {
            "text/html": [
              "<div>\n",
              "<style scoped>\n",
              "    .dataframe tbody tr th:only-of-type {\n",
              "        vertical-align: middle;\n",
              "    }\n",
              "\n",
              "    .dataframe tbody tr th {\n",
              "        vertical-align: top;\n",
              "    }\n",
              "\n",
              "    .dataframe thead th {\n",
              "        text-align: right;\n",
              "    }\n",
              "</style>\n",
              "<table border=\"1\" class=\"dataframe\">\n",
              "  <thead>\n",
              "    <tr style=\"text-align: right;\">\n",
              "      <th></th>\n",
              "      <th>quoteID</th>\n",
              "      <th>quotation</th>\n",
              "      <th>speaker</th>\n",
              "      <th>qids</th>\n",
              "      <th>date</th>\n",
              "      <th>numOccurrences</th>\n",
              "      <th>probas</th>\n",
              "      <th>urls</th>\n",
              "      <th>phase</th>\n",
              "      <th>vader_compound</th>\n",
              "      <th>vader_neg</th>\n",
              "      <th>vader_pos</th>\n",
              "      <th>vader_neu</th>\n",
              "      <th>flair_pred</th>\n",
              "    </tr>\n",
              "  </thead>\n",
              "  <tbody>\n",
              "    <tr>\n",
              "      <th>0</th>\n",
              "      <td>2018-04-13-001441</td>\n",
              "      <td>A Digital Free Trade Zone between China and Ma...</td>\n",
              "      <td>Peter Wong</td>\n",
              "      <td>[Q7177768, Q7177774, Q7177776, Q9456225]</td>\n",
              "      <td>2018-04-13 19:30:55</td>\n",
              "      <td>1</td>\n",
              "      <td>[[Peter Wong, 0.782], [None, 0.218]]</td>\n",
              "      <td>[http://nst.com.my/business/2018/04/356893/chi...</td>\n",
              "      <td>E</td>\n",
              "      <td>0.5106</td>\n",
              "      <td>0.000</td>\n",
              "      <td>0.096</td>\n",
              "      <td>0.904</td>\n",
              "      <td>0.995053</td>\n",
              "    </tr>\n",
              "    <tr>\n",
              "      <th>1</th>\n",
              "      <td>2018-04-13-001441</td>\n",
              "      <td>A Digital Free Trade Zone between China and Ma...</td>\n",
              "      <td>Peter Wong</td>\n",
              "      <td>[Q7177768, Q7177774, Q7177776, Q9456225]</td>\n",
              "      <td>2018-04-13 19:30:55</td>\n",
              "      <td>1</td>\n",
              "      <td>[[Peter Wong, 0.782], [None, 0.218]]</td>\n",
              "      <td>[http://nst.com.my/business/2018/04/356893/chi...</td>\n",
              "      <td>E</td>\n",
              "      <td>0.5106</td>\n",
              "      <td>0.000</td>\n",
              "      <td>0.096</td>\n",
              "      <td>0.904</td>\n",
              "      <td>0.995053</td>\n",
              "    </tr>\n",
              "    <tr>\n",
              "      <th>2</th>\n",
              "      <td>2018-03-23-003097</td>\n",
              "      <td>A rough week for the markets... as fears of a ...</td>\n",
              "      <td>None</td>\n",
              "      <td>[]</td>\n",
              "      <td>2018-03-23 10:28:51</td>\n",
              "      <td>2</td>\n",
              "      <td>[[None, 0.9112], [President Donald Trump, 0.08...</td>\n",
              "      <td>[http://www.breitbart.com/news/world-stock-mar...</td>\n",
              "      <td>E</td>\n",
              "      <td>-0.7717</td>\n",
              "      <td>0.283</td>\n",
              "      <td>0.000</td>\n",
              "      <td>0.717</td>\n",
              "      <td>0.986649</td>\n",
              "    </tr>\n",
              "    <tr>\n",
              "      <th>3</th>\n",
              "      <td>2018-04-08-011525</td>\n",
              "      <td>Every day of the week China, comes into our ho...</td>\n",
              "      <td>Peter Navarro</td>\n",
              "      <td>[Q7176052]</td>\n",
              "      <td>2018-04-08 04:00:00</td>\n",
              "      <td>17</td>\n",
              "      <td>[[Peter Navarro, 0.6696], [None, 0.208], [LARR...</td>\n",
              "      <td>[http://dailylocal.com/general-news/20180408/a...</td>\n",
              "      <td>E</td>\n",
              "      <td>0.1531</td>\n",
              "      <td>0.079</td>\n",
              "      <td>0.098</td>\n",
              "      <td>0.823</td>\n",
              "      <td>0.999764</td>\n",
              "    </tr>\n",
              "    <tr>\n",
              "      <th>4</th>\n",
              "      <td>2018-05-14-023366</td>\n",
              "      <td>For the President to become suddenly concerned...</td>\n",
              "      <td>Jonathan Fenby</td>\n",
              "      <td>[Q15072639]</td>\n",
              "      <td>2018-05-14 20:43:32</td>\n",
              "      <td>2</td>\n",
              "      <td>[[Jonathan Fenby, 0.8834], [None, 0.1166]]</td>\n",
              "      <td>[https://www.fxstreet.com/news/wall-street-dow...</td>\n",
              "      <td>E</td>\n",
              "      <td>0.5719</td>\n",
              "      <td>0.000</td>\n",
              "      <td>0.065</td>\n",
              "      <td>0.935</td>\n",
              "      <td>0.901506</td>\n",
              "    </tr>\n",
              "  </tbody>\n",
              "</table>\n",
              "</div>"
            ],
            "text/plain": [
              "             quoteID  ... flair_pred\n",
              "0  2018-04-13-001441  ...   0.995053\n",
              "1  2018-04-13-001441  ...   0.995053\n",
              "2  2018-03-23-003097  ...   0.986649\n",
              "3  2018-04-08-011525  ...   0.999764\n",
              "4  2018-05-14-023366  ...   0.901506\n",
              "\n",
              "[5 rows x 14 columns]"
            ]
          },
          "metadata": {},
          "execution_count": 27
        }
      ]
    },
    {
      "cell_type": "code",
      "metadata": {
        "id": "0G1RBfuppUm0"
      },
      "source": [
        "# china_trade_2018.to_json('/content/quotes-2018-china_trade_features.json', compression='bz2')"
      ],
      "execution_count": null,
      "outputs": []
    },
    {
      "cell_type": "code",
      "metadata": {
        "colab": {
          "base_uri": "https://localhost:8080/"
        },
        "id": "UGOnksLEBudQ",
        "outputId": "cb62aad9-771b-4232-db1f-db69d55c7270"
      },
      "source": [
        "len(china_trade_2018)"
      ],
      "execution_count": null,
      "outputs": [
        {
          "output_type": "execute_result",
          "data": {
            "text/plain": [
              "16392"
            ]
          },
          "metadata": {},
          "execution_count": 34
        }
      ]
    },
    {
      "cell_type": "code",
      "metadata": {
        "colab": {
          "base_uri": "https://localhost:8080/"
        },
        "id": "BidA5lJvCMSq",
        "outputId": "1d52374b-623c-4dfd-8cb2-b49cd5b58087"
      },
      "source": [
        "len(np.unique(china_trade_2018.quoteID))"
      ],
      "execution_count": null,
      "outputs": [
        {
          "output_type": "execute_result",
          "data": {
            "text/plain": [
              "16392"
            ]
          },
          "metadata": {},
          "execution_count": 39
        }
      ]
    },
    {
      "cell_type": "markdown",
      "metadata": {
        "id": "6Fj-pcTcCd1J"
      },
      "source": [
        "We can see that there are a few duplicates because we added several times quotations with several target words. We added a \"break\" statement in the corresponding functions for future usage."
      ]
    },
    {
      "cell_type": "code",
      "metadata": {
        "id": "7V5_xly8CPkN"
      },
      "source": [
        "china_trade_2018.drop_duplicates(subset='quoteID', keep='first', inplace=True)"
      ],
      "execution_count": null,
      "outputs": []
    },
    {
      "cell_type": "code",
      "metadata": {
        "colab": {
          "base_uri": "https://localhost:8080/"
        },
        "id": "sXS7wc0BDNNR",
        "outputId": "f86b535f-6b6c-4ca2-8840-8b44f62a8be1"
      },
      "source": [
        "china_trade_2018.columns"
      ],
      "execution_count": null,
      "outputs": [
        {
          "output_type": "execute_result",
          "data": {
            "text/plain": [
              "Index(['quoteID', 'quotation', 'speaker', 'qids', 'date', 'numOccurrences',\n",
              "       'probas', 'urls', 'phase', 'vader_compound', 'vader_neg', 'vader_pos',\n",
              "       'vader_neu', 'flair_pred', 'textblob_polarity',\n",
              "       'textblob_subjectivity'],\n",
              "      dtype='object')"
            ]
          },
          "metadata": {},
          "execution_count": 38
        }
      ]
    },
    {
      "cell_type": "markdown",
      "metadata": {
        "id": "dEYXtO16CkTr"
      },
      "source": [
        "# **Twitter data collection**"
      ]
    },
    {
      "cell_type": "markdown",
      "metadata": {
        "id": "ummUHOv9UJtY"
      },
      "source": [
        "As it was discussed in the README, it's possible to obtain tweets from twitter by either using the twitter API or open source libraries such snscrape, here is an example on how we could use snscrape to obtain some tweets, **notice that because of collab we are not able to run the full functionality of snscrape library** "
      ]
    },
    {
      "cell_type": "code",
      "metadata": {
        "colab": {
          "base_uri": "https://localhost:8080/"
        },
        "id": "PlIJpzyuCt1y",
        "outputId": "7e173067-0714-4c8b-b27d-34c3aaf3088a"
      },
      "source": [
        "#install the library\n",
        "pip install snscrape"
      ],
      "execution_count": null,
      "outputs": [
        {
          "output_type": "stream",
          "name": "stdout",
          "text": [
            "Requirement already satisfied: snscrape in /usr/local/lib/python3.7/dist-packages (0.3.4)\n",
            "Requirement already satisfied: beautifulsoup4 in /usr/local/lib/python3.7/dist-packages (from snscrape) (4.6.3)\n",
            "Requirement already satisfied: lxml in /usr/local/lib/python3.7/dist-packages (from snscrape) (4.2.6)\n",
            "Requirement already satisfied: requests[socks] in /usr/local/lib/python3.7/dist-packages (from snscrape) (2.23.0)\n",
            "Requirement already satisfied: idna<3,>=2.5 in /usr/local/lib/python3.7/dist-packages (from requests[socks]->snscrape) (2.10)\n",
            "Requirement already satisfied: certifi>=2017.4.17 in /usr/local/lib/python3.7/dist-packages (from requests[socks]->snscrape) (2021.10.8)\n",
            "Requirement already satisfied: urllib3!=1.25.0,!=1.25.1,<1.26,>=1.21.1 in /usr/local/lib/python3.7/dist-packages (from requests[socks]->snscrape) (1.24.3)\n",
            "Requirement already satisfied: chardet<4,>=3.0.2 in /usr/local/lib/python3.7/dist-packages (from requests[socks]->snscrape) (3.0.4)\n",
            "Requirement already satisfied: PySocks!=1.5.7,>=1.5.6 in /usr/local/lib/python3.7/dist-packages (from requests[socks]->snscrape) (1.7.1)\n"
          ]
        }
      ]
    },
    {
      "cell_type": "code",
      "metadata": {
        "id": "Micq9QfITgYB"
      },
      "source": [
        "# To get the full functionality of the library download the developer snscrape \n",
        "# pip install git+https://github.com/JustAnotherArchivist/snscrape.git"
      ],
      "execution_count": null,
      "outputs": []
    },
    {
      "cell_type": "markdown",
      "metadata": {
        "id": "uERYnzNeZLcY"
      },
      "source": [
        "by using snscrape module, we are able to execute queries like if we were in the twitter search engine. It is important to know that:\n",
        "1. A query is formed of words\n",
        "2. A query can be filtered by adding keywords such near, lang, since, until, ..\n",
        "\n",
        "In this case we will execute a query to obtain the most recent english tweets in US since 2021.01.01 to 2021.02.01 with the word china. \n",
        "\n",
        "we will stop this query when we have achieved 100 tweets\n",
        "\n"
      ]
    },
    {
      "cell_type": "code",
      "metadata": {
        "id": "1ZOlVSNwDIG7"
      },
      "source": [
        "\n",
        "import snscrape.modules.twitter as sntwitter\n",
        "import pandas as pd\n",
        "\n",
        "query = \"china\"\n",
        "tweets_list2 = []\n",
        "file_name = \"tweets_example.csv\"\n",
        "# Using TwitterSearchScraper to scrape data and append tweets to list\n",
        "for i,tweet in enumerate(sntwitter.TwitterSearchScraper(query + ' near:US since:2021-01-01 until:2021-02-01 lang:en').get_items()):\n",
        "    if i >= 100:\n",
        "        # stop when have reached the most recent 100 tweets\n",
        "        break\n",
        "    tweets_list2.append([\"\" + str(tweet.date) +\"\", \n",
        "                         \"\" + str(tweet.id) + \"\",\n",
        "                         \"\" + str(tweet.content) + \"\",\n",
        "                        #  \"\" + str(tweet.user.username) + \"\", #uncomment when using developer snscrape library\n",
        "                        #  \"\" + str(tweet.replyCount) + \"\",    #uncomment when using developer snscrape library\n",
        "                        #  \"\" + str(tweet.retweetCount) + \"\",  #uncomment when using developer snscrape library\n",
        "                        #  \"\" + str(tweet.likeCount) + \"\",     #uncomment when using developer snscrape library\n",
        "                        #  \"\" + str(tweet.quoteCount) + \"\"     #uncomment when using developer snscrape library\n",
        "                        ])\n",
        "\n",
        "# Creating a dataframe from the tweets list above\n",
        "tweets_df2 = pd.DataFrame(tweets_list2, columns=['Datetime',\n",
        "                                                 'Tweet Id',\n",
        "                                                 'Text',\n",
        "                                                #  'Username',    #uncomment when using developer snscrape library\n",
        "                                                #  'ReplyCount',  #uncomment when using developer snscrape library\n",
        "                                                #  'retweetCount',#uncomment when using developer snscrape library\n",
        "                                                #  'likeCount',   #uncomment when using developer snscrape library\n",
        "                                                #  'quoteCount'   #uncomment when using developer snscrape library\n",
        "                                                 ])\n",
        "tweets_df2.to_csv(file_name, sep=',')\n"
      ],
      "execution_count": null,
      "outputs": []
    },
    {
      "cell_type": "code",
      "metadata": {
        "colab": {
          "base_uri": "https://localhost:8080/",
          "height": 287
        },
        "id": "n3Qrx4AfYu5t",
        "outputId": "ffcc8321-1728-48e1-d34d-7a10a2d5e9ef"
      },
      "source": [
        "tweets_df2.head()"
      ],
      "execution_count": null,
      "outputs": [
        {
          "output_type": "execute_result",
          "data": {
            "text/html": [
              "<div>\n",
              "<style scoped>\n",
              "    .dataframe tbody tr th:only-of-type {\n",
              "        vertical-align: middle;\n",
              "    }\n",
              "\n",
              "    .dataframe tbody tr th {\n",
              "        vertical-align: top;\n",
              "    }\n",
              "\n",
              "    .dataframe thead th {\n",
              "        text-align: right;\n",
              "    }\n",
              "</style>\n",
              "<table border=\"1\" class=\"dataframe\">\n",
              "  <thead>\n",
              "    <tr style=\"text-align: right;\">\n",
              "      <th></th>\n",
              "      <th>Datetime</th>\n",
              "      <th>Tweet Id</th>\n",
              "      <th>Text</th>\n",
              "    </tr>\n",
              "  </thead>\n",
              "  <tbody>\n",
              "    <tr>\n",
              "      <th>0</th>\n",
              "      <td>2021-01-31 23:59:56+00:00</td>\n",
              "      <td>1356029481459310596</td>\n",
              "      <td>@kimlipp The fabric her decorator picked appar...</td>\n",
              "    </tr>\n",
              "    <tr>\n",
              "      <th>1</th>\n",
              "      <td>2021-01-31 23:59:05+00:00</td>\n",
              "      <td>1356029264261476352</td>\n",
              "      <td>It’s UNCONSCIONABLE over 95% of the 80+ millio...</td>\n",
              "    </tr>\n",
              "    <tr>\n",
              "      <th>2</th>\n",
              "      <td>2021-01-31 23:54:19+00:00</td>\n",
              "      <td>1356028067999838210</td>\n",
              "      <td>@quidohmi_prsnl @Ratty524 Check it out via thi...</td>\n",
              "    </tr>\n",
              "    <tr>\n",
              "      <th>3</th>\n",
              "      <td>2021-01-31 23:53:50+00:00</td>\n",
              "      <td>1356027943630352384</td>\n",
              "      <td>@jamesst42887645 @sheeshkabob @DonaldJTrumpJr ...</td>\n",
              "    </tr>\n",
              "    <tr>\n",
              "      <th>4</th>\n",
              "      <td>2021-01-31 23:53:24+00:00</td>\n",
              "      <td>1356027834922381316</td>\n",
              "      <td>@fancy260390 @yo00u1 @jasminericegirl Yeah tho...</td>\n",
              "    </tr>\n",
              "  </tbody>\n",
              "</table>\n",
              "</div>"
            ],
            "text/plain": [
              "                    Datetime  ...                                               Text\n",
              "0  2021-01-31 23:59:56+00:00  ...  @kimlipp The fabric her decorator picked appar...\n",
              "1  2021-01-31 23:59:05+00:00  ...  It’s UNCONSCIONABLE over 95% of the 80+ millio...\n",
              "2  2021-01-31 23:54:19+00:00  ...  @quidohmi_prsnl @Ratty524 Check it out via thi...\n",
              "3  2021-01-31 23:53:50+00:00  ...  @jamesst42887645 @sheeshkabob @DonaldJTrumpJr ...\n",
              "4  2021-01-31 23:53:24+00:00  ...  @fancy260390 @yo00u1 @jasminericegirl Yeah tho...\n",
              "\n",
              "[5 rows x 3 columns]"
            ]
          },
          "metadata": {},
          "execution_count": 61
        }
      ]
    },
    {
      "cell_type": "markdown",
      "metadata": {
        "id": "5MZ9A9_najBr"
      },
      "source": [
        "To avoid wasting time, we have downloaded tweets  with the snscrape library that will helps us to enrich our dataset"
      ]
    },
    {
      "cell_type": "code",
      "metadata": {
        "id": "nTiW1sNiFAnN",
        "colab": {
          "base_uri": "https://localhost:8080/"
        },
        "outputId": "39c04ed1-0881-4a2d-af2a-d7f1dc55edb8"
      },
      "source": [
        "from google.colab import drive\n",
        "drive.mount('/content/drive')"
      ],
      "execution_count": 67,
      "outputs": [
        {
          "output_type": "stream",
          "name": "stdout",
          "text": [
            "Drive already mounted at /content/drive; to attempt to forcibly remount, call drive.mount(\"/content/drive\", force_remount=True).\n"
          ]
        }
      ]
    },
    {
      "cell_type": "code",
      "metadata": {
        "colab": {
          "base_uri": "https://localhost:8080/"
        },
        "id": "XpHJakQZPnLn",
        "outputId": "28d7d433-ec18-42b6-9717-3cc3d84272e9"
      },
      "source": [
        "!ls \"/content/drive/MyDrive/ADADATASET\""
      ],
      "execution_count": 68,
      "outputs": [
        {
          "output_type": "stream",
          "name": "stdout",
          "text": [
            "tweets_with_china2018.02.01-2019.02.01_new_data_US_without_verification.csv\n"
          ]
        }
      ]
    },
    {
      "cell_type": "code",
      "metadata": {
        "colab": {
          "base_uri": "https://localhost:8080/",
          "height": 203
        },
        "id": "hrxtW_w3O2Xh",
        "outputId": "84cd58f5-aa3e-43ac-b946-bc4aee535b91"
      },
      "source": [
        "# loading csv tweets\n",
        "Path_all_tweets_2018_2019 = \"/content/drive/MyDrive/ADADATASET/tweets_with_china2018.02.01-2019.02.01_new_data_US_without_verification.csv\"\n",
        "\n",
        "import pandas as pd\n",
        "import numpy as np\n",
        "df_tweets = pd.read_csv(Path_all_tweets_2018_2019,usecols=range(1,9),sep=',')\n",
        "df_tweets.head()"
      ],
      "execution_count": 69,
      "outputs": [
        {
          "output_type": "execute_result",
          "data": {
            "text/html": [
              "<div>\n",
              "<style scoped>\n",
              "    .dataframe tbody tr th:only-of-type {\n",
              "        vertical-align: middle;\n",
              "    }\n",
              "\n",
              "    .dataframe tbody tr th {\n",
              "        vertical-align: top;\n",
              "    }\n",
              "\n",
              "    .dataframe thead th {\n",
              "        text-align: right;\n",
              "    }\n",
              "</style>\n",
              "<table border=\"1\" class=\"dataframe\">\n",
              "  <thead>\n",
              "    <tr style=\"text-align: right;\">\n",
              "      <th></th>\n",
              "      <th>Datetime</th>\n",
              "      <th>Tweet Id</th>\n",
              "      <th>Text</th>\n",
              "      <th>Username</th>\n",
              "      <th>ReplyCount</th>\n",
              "      <th>retweetCount</th>\n",
              "      <th>likeCount</th>\n",
              "      <th>quoteCount</th>\n",
              "    </tr>\n",
              "  </thead>\n",
              "  <tbody>\n",
              "    <tr>\n",
              "      <th>0</th>\n",
              "      <td>2019-01-31 23:52:22+00:00</td>\n",
              "      <td>1091122047516721153</td>\n",
              "      <td>@NBCNews What a surprise at a border checkpoin...</td>\n",
              "      <td>feather043</td>\n",
              "      <td>0.0</td>\n",
              "      <td>0.0</td>\n",
              "      <td>0.0</td>\n",
              "      <td>0.0</td>\n",
              "    </tr>\n",
              "    <tr>\n",
              "      <th>1</th>\n",
              "      <td>2019-01-31 23:51:06+00:00</td>\n",
              "      <td>1091121725583093760</td>\n",
              "      <td>@LASCSFT @senatemajldr The wife is tied in wit...</td>\n",
              "      <td>Qwarktastic2</td>\n",
              "      <td>0.0</td>\n",
              "      <td>0.0</td>\n",
              "      <td>0.0</td>\n",
              "      <td>0.0</td>\n",
              "    </tr>\n",
              "    <tr>\n",
              "      <th>2</th>\n",
              "      <td>2019-01-31 23:50:58+00:00</td>\n",
              "      <td>1091121691944718336</td>\n",
              "      <td>@maddow You keep undermining Trump. This gives...</td>\n",
              "      <td>r_faghan</td>\n",
              "      <td>0.0</td>\n",
              "      <td>0.0</td>\n",
              "      <td>0.0</td>\n",
              "      <td>0.0</td>\n",
              "    </tr>\n",
              "    <tr>\n",
              "      <th>3</th>\n",
              "      <td>2019-01-31 23:50:13+00:00</td>\n",
              "      <td>1091121506585845761</td>\n",
              "      <td>@TheRealKenInMN @JenniferJJacobs I remember He...</td>\n",
              "      <td>Gegiroor</td>\n",
              "      <td>0.0</td>\n",
              "      <td>0.0</td>\n",
              "      <td>0.0</td>\n",
              "      <td>0.0</td>\n",
              "    </tr>\n",
              "    <tr>\n",
              "      <th>4</th>\n",
              "      <td>2019-01-31 23:49:43+00:00</td>\n",
              "      <td>1091121380031107072</td>\n",
              "      <td>@charliekirk11 @realDonaldTrump Is it also ama...</td>\n",
              "      <td>Coca_Cola_Kid1</td>\n",
              "      <td>1.0</td>\n",
              "      <td>0.0</td>\n",
              "      <td>1.0</td>\n",
              "      <td>0.0</td>\n",
              "    </tr>\n",
              "  </tbody>\n",
              "</table>\n",
              "</div>"
            ],
            "text/plain": [
              "                    Datetime             Tweet Id  ... likeCount quoteCount\n",
              "0  2019-01-31 23:52:22+00:00  1091122047516721153  ...       0.0        0.0\n",
              "1  2019-01-31 23:51:06+00:00  1091121725583093760  ...       0.0        0.0\n",
              "2  2019-01-31 23:50:58+00:00  1091121691944718336  ...       0.0        0.0\n",
              "3  2019-01-31 23:50:13+00:00  1091121506585845761  ...       0.0        0.0\n",
              "4  2019-01-31 23:49:43+00:00  1091121380031107072  ...       1.0        0.0\n",
              "\n",
              "[5 rows x 8 columns]"
            ]
          },
          "metadata": {},
          "execution_count": 69
        }
      ]
    },
    {
      "cell_type": "code",
      "metadata": {
        "colab": {
          "base_uri": "https://localhost:8080/"
        },
        "id": "xUrGY_Xubw3Q",
        "outputId": "95e72ab5-f773-4f87-eb52-f782baf3f3f0"
      },
      "source": [
        "len(df_tweets)"
      ],
      "execution_count": 70,
      "outputs": [
        {
          "output_type": "execute_result",
          "data": {
            "text/plain": [
              "157064"
            ]
          },
          "metadata": {},
          "execution_count": 70
        }
      ]
    },
    {
      "cell_type": "markdown",
      "metadata": {
        "id": "Fwh76_yEd7TX"
      },
      "source": [
        "Now, we will use preprocessor library that cleans the tweets directly."
      ]
    },
    {
      "cell_type": "code",
      "metadata": {
        "colab": {
          "base_uri": "https://localhost:8080/"
        },
        "id": "4z7OQBxteBXG",
        "outputId": "780099d0-485d-4def-ae81-d61ad5a6e007"
      },
      "source": [
        "!pip install tweet-preprocessor"
      ],
      "execution_count": 72,
      "outputs": [
        {
          "output_type": "stream",
          "name": "stdout",
          "text": [
            "Requirement already satisfied: tweet-preprocessor in /usr/local/lib/python3.7/dist-packages (0.6.0)\n"
          ]
        }
      ]
    },
    {
      "cell_type": "code",
      "metadata": {
        "id": "nWWRXEUmcu2o",
        "colab": {
          "base_uri": "https://localhost:8080/",
          "height": 203
        },
        "outputId": "11752acb-a6a4-4e4c-b047-f4bf45e4a2cd"
      },
      "source": [
        "import preprocessor as p\n",
        "\n",
        "df_tweets['Text']  = df_tweets.apply(lambda row: p.clean(row['Text']), axis=1)\n",
        "df_tweets.head()"
      ],
      "execution_count": 74,
      "outputs": [
        {
          "output_type": "execute_result",
          "data": {
            "text/html": [
              "<div>\n",
              "<style scoped>\n",
              "    .dataframe tbody tr th:only-of-type {\n",
              "        vertical-align: middle;\n",
              "    }\n",
              "\n",
              "    .dataframe tbody tr th {\n",
              "        vertical-align: top;\n",
              "    }\n",
              "\n",
              "    .dataframe thead th {\n",
              "        text-align: right;\n",
              "    }\n",
              "</style>\n",
              "<table border=\"1\" class=\"dataframe\">\n",
              "  <thead>\n",
              "    <tr style=\"text-align: right;\">\n",
              "      <th></th>\n",
              "      <th>Datetime</th>\n",
              "      <th>Tweet Id</th>\n",
              "      <th>Text</th>\n",
              "      <th>Username</th>\n",
              "      <th>ReplyCount</th>\n",
              "      <th>retweetCount</th>\n",
              "      <th>likeCount</th>\n",
              "      <th>quoteCount</th>\n",
              "    </tr>\n",
              "  </thead>\n",
              "  <tbody>\n",
              "    <tr>\n",
              "      <th>0</th>\n",
              "      <td>2019-01-31 23:52:22+00:00</td>\n",
              "      <td>1091122047516721153</td>\n",
              "      <td>What a surprise at a border checkpoint not in ...</td>\n",
              "      <td>feather043</td>\n",
              "      <td>0.0</td>\n",
              "      <td>0.0</td>\n",
              "      <td>0.0</td>\n",
              "      <td>0.0</td>\n",
              "    </tr>\n",
              "    <tr>\n",
              "      <th>1</th>\n",
              "      <td>2019-01-31 23:51:06+00:00</td>\n",
              "      <td>1091121725583093760</td>\n",
              "      <td>The wife is tied in with China.</td>\n",
              "      <td>Qwarktastic2</td>\n",
              "      <td>0.0</td>\n",
              "      <td>0.0</td>\n",
              "      <td>0.0</td>\n",
              "      <td>0.0</td>\n",
              "    </tr>\n",
              "    <tr>\n",
              "      <th>2</th>\n",
              "      <td>2019-01-31 23:50:58+00:00</td>\n",
              "      <td>1091121691944718336</td>\n",
              "      <td>You keep undermining Trump. This gives Russia ...</td>\n",
              "      <td>r_faghan</td>\n",
              "      <td>0.0</td>\n",
              "      <td>0.0</td>\n",
              "      <td>0.0</td>\n",
              "      <td>0.0</td>\n",
              "    </tr>\n",
              "    <tr>\n",
              "      <th>3</th>\n",
              "      <td>2019-01-31 23:50:13+00:00</td>\n",
              "      <td>1091121506585845761</td>\n",
              "      <td>I remember Herman Cain being asked about China...</td>\n",
              "      <td>Gegiroor</td>\n",
              "      <td>0.0</td>\n",
              "      <td>0.0</td>\n",
              "      <td>0.0</td>\n",
              "      <td>0.0</td>\n",
              "    </tr>\n",
              "    <tr>\n",
              "      <th>4</th>\n",
              "      <td>2019-01-31 23:49:43+00:00</td>\n",
              "      <td>1091121380031107072</td>\n",
              "      <td>Is it also amazing to have a President who que...</td>\n",
              "      <td>Coca_Cola_Kid1</td>\n",
              "      <td>1.0</td>\n",
              "      <td>0.0</td>\n",
              "      <td>1.0</td>\n",
              "      <td>0.0</td>\n",
              "    </tr>\n",
              "  </tbody>\n",
              "</table>\n",
              "</div>"
            ],
            "text/plain": [
              "                    Datetime             Tweet Id  ... likeCount quoteCount\n",
              "0  2019-01-31 23:52:22+00:00  1091122047516721153  ...       0.0        0.0\n",
              "1  2019-01-31 23:51:06+00:00  1091121725583093760  ...       0.0        0.0\n",
              "2  2019-01-31 23:50:58+00:00  1091121691944718336  ...       0.0        0.0\n",
              "3  2019-01-31 23:50:13+00:00  1091121506585845761  ...       0.0        0.0\n",
              "4  2019-01-31 23:49:43+00:00  1091121380031107072  ...       1.0        0.0\n",
              "\n",
              "[5 rows x 8 columns]"
            ]
          },
          "metadata": {},
          "execution_count": 74
        }
      ]
    },
    {
      "cell_type": "code",
      "metadata": {
        "id": "Gp02a3vkPYvm"
      },
      "source": [
        "import matplotlib as mpl\n",
        "import matplotlib.pyplot as plt\t\n",
        "from wordcloud import WordCloud, STOPWORDS, ImageColorGenerator\n",
        "def word_cloud(col):\n",
        "\t\"\"\"\n",
        "\tTakes in dataframe and plots a wordclous using matplotlib\n",
        "\t\"\"\"\n",
        "\tplt.subplots(figsize = (12,10))\n",
        "\twordcloud = WordCloud(\n",
        "\t\t\t\t\t\t\tbackground_color = 'white',\n",
        "\t\t\t\t\t\t\twidth = 1000,\n",
        "\t\t\t\t\t\t\theight = 800).generate(\" \".join(col))\n",
        "\tplt.imshow(wordcloud)\n",
        "\tplt.axis('off')\n",
        "\tplt.show()"
      ],
      "execution_count": null,
      "outputs": []
    },
    {
      "cell_type": "markdown",
      "metadata": {
        "id": "5ov0lwJ0eOxH"
      },
      "source": [
        "We decided to show all the most popular words used in the tweets via a word cloud. notice that because of the size and time constraint we just use the top 500 rows of the the tweet dataset"
      ]
    },
    {
      "cell_type": "code",
      "metadata": {
        "colab": {
          "base_uri": "https://localhost:8080/",
          "height": 567
        },
        "id": "hiM6OJcreMwK",
        "outputId": "9358db2b-7362-452a-b35d-ed22462f482e"
      },
      "source": [
        "word_cloud(df_tweets.head(500)['Text'])"
      ],
      "execution_count": 76,
      "outputs": [
        {
          "output_type": "display_data",
          "data": {
            "image/png": "[encoded data removed]",
            "text/plain": [
              "<Figure size 864x720 with 1 Axes>"
            ]
          },
          "metadata": {
            "needs_background": "light"
          }
        }
      ]
    },
    {
      "cell_type": "markdown",
      "metadata": {
        "id": "KA7zgGTofEWd"
      },
      "source": [
        "# **Stock dataset collection**"
      ]
    },
    {
      "cell_type": "markdown",
      "metadata": {
        "id": "mu_olsLmfWEm"
      },
      "source": [
        "Yahoo! Finance is a media property that is part of the Yahoo! network. It provides financial news, data and commentary including stock quotes, press releases, financial reports, and original content."
      ]
    },
    {
      "cell_type": "code",
      "metadata": {
        "colab": {
          "base_uri": "https://localhost:8080/",
          "height": 555
        },
        "id": "bzBoi4CQgPit",
        "outputId": "12422abc-8d75-4ff8-ead9-8a0b870645a9"
      },
      "source": [
        "pip install yfinance"
      ],
      "execution_count": 85,
      "outputs": [
        {
          "output_type": "stream",
          "name": "stdout",
          "text": [
            "Collecting yfinance\n",
            "  Downloading yfinance-0.1.64.tar.gz (26 kB)\n",
            "Requirement already satisfied: pandas>=0.24 in /usr/local/lib/python3.7/dist-packages (from yfinance) (1.1.5)\n",
            "Requirement already satisfied: numpy>=1.15 in /usr/local/lib/python3.7/dist-packages (from yfinance) (1.19.5)\n",
            "Requirement already satisfied: requests>=2.20 in /usr/local/lib/python3.7/dist-packages (from yfinance) (2.23.0)\n",
            "Requirement already satisfied: multitasking>=0.0.7 in /usr/local/lib/python3.7/dist-packages (from yfinance) (0.0.9)\n",
            "Collecting lxml>=4.5.1\n",
            "  Downloading lxml-4.6.4-cp37-cp37m-manylinux_2_17_x86_64.manylinux2014_x86_64.manylinux_2_24_x86_64.whl (6.3 MB)\n",
            "\u001b[K     |████████████████████████████████| 6.3 MB 13.1 MB/s \n",
            "\u001b[?25hRequirement already satisfied: pytz>=2017.2 in /usr/local/lib/python3.7/dist-packages (from pandas>=0.24->yfinance) (2018.9)\n",
            "Requirement already satisfied: python-dateutil>=2.7.3 in /usr/local/lib/python3.7/dist-packages (from pandas>=0.24->yfinance) (2.8.2)\n",
            "Requirement already satisfied: six>=1.5 in /usr/local/lib/python3.7/dist-packages (from python-dateutil>=2.7.3->pandas>=0.24->yfinance) (1.15.0)\n",
            "Requirement already satisfied: chardet<4,>=3.0.2 in /usr/local/lib/python3.7/dist-packages (from requests>=2.20->yfinance) (3.0.4)\n",
            "Requirement already satisfied: certifi>=2017.4.17 in /usr/local/lib/python3.7/dist-packages (from requests>=2.20->yfinance) (2021.10.8)\n",
            "Requirement already satisfied: idna<3,>=2.5 in /usr/local/lib/python3.7/dist-packages (from requests>=2.20->yfinance) (2.10)\n",
            "Requirement already satisfied: urllib3!=1.25.0,!=1.25.1,<1.26,>=1.21.1 in /usr/local/lib/python3.7/dist-packages (from requests>=2.20->yfinance) (1.24.3)\n",
            "Building wheels for collected packages: yfinance\n",
            "  Building wheel for yfinance (setup.py) ... \u001b[?25l\u001b[?25hdone\n",
            "  Created wheel for yfinance: filename=yfinance-0.1.64-py2.py3-none-any.whl size=24109 sha256=05089f8138fce046abc325540703f0da1e9b07e3f8a1d2894d59c70e1ddd4486\n",
            "  Stored in directory: /root/.cache/pip/wheels/86/fe/9b/a4d3d78796b699e37065e5b6c27b75cff448ddb8b24943c288\n",
            "Successfully built yfinance\n",
            "Installing collected packages: lxml, yfinance\n",
            "  Attempting uninstall: lxml\n",
            "    Found existing installation: lxml 4.2.6\n",
            "    Uninstalling lxml-4.2.6:\n",
            "      Successfully uninstalled lxml-4.2.6\n",
            "Successfully installed lxml-4.6.4 yfinance-0.1.64\n"
          ]
        },
        {
          "output_type": "display_data",
          "data": {
            "application/vnd.colab-display-data+json": {
              "pip_warning": {
                "packages": [
                  "lxml"
                ]
              }
            }
          },
          "metadata": {}
        }
      ]
    },
    {
      "cell_type": "code",
      "metadata": {
        "id": "LNN2ojYje8iE"
      },
      "source": [
        "import yfinance as yf\n",
        "import pandas as pd\n",
        "import numpy as np\n",
        "import matplotlib.pyplot as plt\n",
        "import seaborn as sns"
      ],
      "execution_count": 86,
      "outputs": []
    },
    {
      "cell_type": "code",
      "metadata": {
        "id": "uf7g3dAsfdIw"
      },
      "source": [
        "def get_asset_data(ticker,start,end,interval):\n",
        "  ticker_y=yf.Ticker(ticker)\n",
        "  data=ticker_y.history(start=start,end=end,interval=interval)\n",
        "  return data"
      ],
      "execution_count": 77,
      "outputs": []
    },
    {
      "cell_type": "code",
      "metadata": {
        "id": "TXieGzH-ffcQ"
      },
      "source": [
        "def compute_return(data):\n",
        "  data['Log returns'] = (np.log(data.Close /data.Close.shift(-1)))\n",
        "  return data"
      ],
      "execution_count": 78,
      "outputs": []
    },
    {
      "cell_type": "code",
      "metadata": {
        "id": "cDPhPHlyfhVr"
      },
      "source": [
        "def compute_volatility(data):\n",
        "    return data['Log returns'].std()*252**.5"
      ],
      "execution_count": 79,
      "outputs": []
    },
    {
      "cell_type": "markdown",
      "metadata": {
        "id": "zjeSS7b8f4le"
      },
      "source": [
        "Just to show the effectivenes of yahoo finance, we will show an example on how to use it in the following cells."
      ]
    },
    {
      "cell_type": "code",
      "metadata": {
        "colab": {
          "base_uri": "https://localhost:8080/"
        },
        "id": "Pj6Mr0EiflKN",
        "outputId": "68010ba4-9aee-4568-b8cc-fe5ec980902b"
      },
      "source": [
        "stock_name = \"ZS=F\" # the name of a soy stock, one of the sectors that was \n",
        "                    # mostly affected during the trade war\n",
        "stockSoyBeans= yf.Ticker(stock_name)\n",
        "stockSoyBeans"
      ],
      "execution_count": 88,
      "outputs": [
        {
          "output_type": "execute_result",
          "data": {
            "text/plain": [
              "yfinance.Ticker object <ZS=F>"
            ]
          },
          "metadata": {},
          "execution_count": 88
        }
      ]
    },
    {
      "cell_type": "code",
      "metadata": {
        "id": "K0SqWVIFfpf2"
      },
      "source": [
        "stock_data=get_asset_data(stock_name,start=\"2018-01-01\", end=\"2019-01-01\", interval=\"1d\")"
      ],
      "execution_count": 89,
      "outputs": []
    },
    {
      "cell_type": "code",
      "metadata": {
        "colab": {
          "base_uri": "https://localhost:8080/",
          "height": 234
        },
        "id": "SfdAJTb9giq3",
        "outputId": "69eb66c4-82e4-4d58-94fb-e9e9ccc90753"
      },
      "source": [
        "stock_data.head()"
      ],
      "execution_count": 90,
      "outputs": [
        {
          "output_type": "execute_result",
          "data": {
            "text/html": [
              "<div>\n",
              "<style scoped>\n",
              "    .dataframe tbody tr th:only-of-type {\n",
              "        vertical-align: middle;\n",
              "    }\n",
              "\n",
              "    .dataframe tbody tr th {\n",
              "        vertical-align: top;\n",
              "    }\n",
              "\n",
              "    .dataframe thead th {\n",
              "        text-align: right;\n",
              "    }\n",
              "</style>\n",
              "<table border=\"1\" class=\"dataframe\">\n",
              "  <thead>\n",
              "    <tr style=\"text-align: right;\">\n",
              "      <th></th>\n",
              "      <th>Open</th>\n",
              "      <th>High</th>\n",
              "      <th>Low</th>\n",
              "      <th>Close</th>\n",
              "      <th>Volume</th>\n",
              "      <th>Dividends</th>\n",
              "      <th>Stock Splits</th>\n",
              "    </tr>\n",
              "    <tr>\n",
              "      <th>Date</th>\n",
              "      <th></th>\n",
              "      <th></th>\n",
              "      <th></th>\n",
              "      <th></th>\n",
              "      <th></th>\n",
              "      <th></th>\n",
              "      <th></th>\n",
              "    </tr>\n",
              "  </thead>\n",
              "  <tbody>\n",
              "    <tr>\n",
              "      <th>2018-01-02</th>\n",
              "      <td>956.50</td>\n",
              "      <td>960.00</td>\n",
              "      <td>949.50</td>\n",
              "      <td>955.00</td>\n",
              "      <td>2900</td>\n",
              "      <td>0</td>\n",
              "      <td>0</td>\n",
              "    </tr>\n",
              "    <tr>\n",
              "      <th>2018-01-03</th>\n",
              "      <td>956.25</td>\n",
              "      <td>960.50</td>\n",
              "      <td>955.00</td>\n",
              "      <td>959.75</td>\n",
              "      <td>2582</td>\n",
              "      <td>0</td>\n",
              "      <td>0</td>\n",
              "    </tr>\n",
              "    <tr>\n",
              "      <th>2018-01-04</th>\n",
              "      <td>959.25</td>\n",
              "      <td>960.00</td>\n",
              "      <td>950.25</td>\n",
              "      <td>959.25</td>\n",
              "      <td>2133</td>\n",
              "      <td>0</td>\n",
              "      <td>0</td>\n",
              "    </tr>\n",
              "    <tr>\n",
              "      <th>2018-01-05</th>\n",
              "      <td>960.00</td>\n",
              "      <td>966.50</td>\n",
              "      <td>960.00</td>\n",
              "      <td>961.50</td>\n",
              "      <td>1278</td>\n",
              "      <td>0</td>\n",
              "      <td>0</td>\n",
              "    </tr>\n",
              "    <tr>\n",
              "      <th>2018-01-08</th>\n",
              "      <td>960.75</td>\n",
              "      <td>962.25</td>\n",
              "      <td>951.50</td>\n",
              "      <td>958.25</td>\n",
              "      <td>988</td>\n",
              "      <td>0</td>\n",
              "      <td>0</td>\n",
              "    </tr>\n",
              "  </tbody>\n",
              "</table>\n",
              "</div>"
            ],
            "text/plain": [
              "              Open    High     Low   Close  Volume  Dividends  Stock Splits\n",
              "Date                                                                       \n",
              "2018-01-02  956.50  960.00  949.50  955.00    2900          0             0\n",
              "2018-01-03  956.25  960.50  955.00  959.75    2582          0             0\n",
              "2018-01-04  959.25  960.00  950.25  959.25    2133          0             0\n",
              "2018-01-05  960.00  966.50  960.00  961.50    1278          0             0\n",
              "2018-01-08  960.75  962.25  951.50  958.25     988          0             0"
            ]
          },
          "metadata": {},
          "execution_count": 90
        }
      ]
    },
    {
      "cell_type": "code",
      "metadata": {
        "id": "unsxxjppgnRh"
      },
      "source": [
        "stock_data_augmented = compute_return(stock_data)"
      ],
      "execution_count": 92,
      "outputs": []
    },
    {
      "cell_type": "code",
      "metadata": {
        "colab": {
          "base_uri": "https://localhost:8080/",
          "height": 234
        },
        "id": "U47MCpL-gvQn",
        "outputId": "e14104aa-b4b2-4822-be74-dc70531388e7"
      },
      "source": [
        "stock_data_augmented.head()"
      ],
      "execution_count": 94,
      "outputs": [
        {
          "output_type": "execute_result",
          "data": {
            "text/html": [
              "<div>\n",
              "<style scoped>\n",
              "    .dataframe tbody tr th:only-of-type {\n",
              "        vertical-align: middle;\n",
              "    }\n",
              "\n",
              "    .dataframe tbody tr th {\n",
              "        vertical-align: top;\n",
              "    }\n",
              "\n",
              "    .dataframe thead th {\n",
              "        text-align: right;\n",
              "    }\n",
              "</style>\n",
              "<table border=\"1\" class=\"dataframe\">\n",
              "  <thead>\n",
              "    <tr style=\"text-align: right;\">\n",
              "      <th></th>\n",
              "      <th>Open</th>\n",
              "      <th>High</th>\n",
              "      <th>Low</th>\n",
              "      <th>Close</th>\n",
              "      <th>Volume</th>\n",
              "      <th>Dividends</th>\n",
              "      <th>Stock Splits</th>\n",
              "      <th>Log returns</th>\n",
              "    </tr>\n",
              "    <tr>\n",
              "      <th>Date</th>\n",
              "      <th></th>\n",
              "      <th></th>\n",
              "      <th></th>\n",
              "      <th></th>\n",
              "      <th></th>\n",
              "      <th></th>\n",
              "      <th></th>\n",
              "      <th></th>\n",
              "    </tr>\n",
              "  </thead>\n",
              "  <tbody>\n",
              "    <tr>\n",
              "      <th>2018-01-02</th>\n",
              "      <td>956.50</td>\n",
              "      <td>960.00</td>\n",
              "      <td>949.50</td>\n",
              "      <td>955.00</td>\n",
              "      <td>2900</td>\n",
              "      <td>0</td>\n",
              "      <td>0</td>\n",
              "      <td>-0.004961</td>\n",
              "    </tr>\n",
              "    <tr>\n",
              "      <th>2018-01-03</th>\n",
              "      <td>956.25</td>\n",
              "      <td>960.50</td>\n",
              "      <td>955.00</td>\n",
              "      <td>959.75</td>\n",
              "      <td>2582</td>\n",
              "      <td>0</td>\n",
              "      <td>0</td>\n",
              "      <td>0.000521</td>\n",
              "    </tr>\n",
              "    <tr>\n",
              "      <th>2018-01-04</th>\n",
              "      <td>959.25</td>\n",
              "      <td>960.00</td>\n",
              "      <td>950.25</td>\n",
              "      <td>959.25</td>\n",
              "      <td>2133</td>\n",
              "      <td>0</td>\n",
              "      <td>0</td>\n",
              "      <td>-0.002343</td>\n",
              "    </tr>\n",
              "    <tr>\n",
              "      <th>2018-01-05</th>\n",
              "      <td>960.00</td>\n",
              "      <td>966.50</td>\n",
              "      <td>960.00</td>\n",
              "      <td>961.50</td>\n",
              "      <td>1278</td>\n",
              "      <td>0</td>\n",
              "      <td>0</td>\n",
              "      <td>0.003386</td>\n",
              "    </tr>\n",
              "    <tr>\n",
              "      <th>2018-01-08</th>\n",
              "      <td>960.75</td>\n",
              "      <td>962.25</td>\n",
              "      <td>951.50</td>\n",
              "      <td>958.25</td>\n",
              "      <td>988</td>\n",
              "      <td>0</td>\n",
              "      <td>0</td>\n",
              "      <td>0.002612</td>\n",
              "    </tr>\n",
              "  </tbody>\n",
              "</table>\n",
              "</div>"
            ],
            "text/plain": [
              "              Open    High     Low  ...  Dividends  Stock Splits  Log returns\n",
              "Date                                ...                                      \n",
              "2018-01-02  956.50  960.00  949.50  ...          0             0    -0.004961\n",
              "2018-01-03  956.25  960.50  955.00  ...          0             0     0.000521\n",
              "2018-01-04  959.25  960.00  950.25  ...          0             0    -0.002343\n",
              "2018-01-05  960.00  966.50  960.00  ...          0             0     0.003386\n",
              "2018-01-08  960.75  962.25  951.50  ...          0             0     0.002612\n",
              "\n",
              "[5 rows x 8 columns]"
            ]
          },
          "metadata": {},
          "execution_count": 94
        }
      ]
    },
    {
      "cell_type": "code",
      "metadata": {
        "colab": {
          "base_uri": "https://localhost:8080/",
          "height": 282
        },
        "id": "hIeWrG_FgxTS",
        "outputId": "7ac4f072-f5af-4fa1-a1aa-7f43f1979e8d"
      },
      "source": [
        "fig, ax = plt.subplots()\n",
        "stock_data_augmented['Log returns'].hist(ax=ax, bins=50, alpha=0.6, color='b', )"
      ],
      "execution_count": 96,
      "outputs": [
        {
          "output_type": "execute_result",
          "data": {
            "text/plain": [
              "<matplotlib.axes._subplots.AxesSubplot at 0x7f3e6ececdd0>"
            ]
          },
          "metadata": {},
          "execution_count": 96
        },
        {
          "output_type": "display_data",
          "data": {
            "image/png": "[encoded data removed]",
            "text/plain": [
              "<Figure size 432x288 with 1 Axes>"
            ]
          },
          "metadata": {
            "needs_background": "light"
          }
        }
      ]
    },
    {
      "cell_type": "code",
      "metadata": {
        "colab": {
          "base_uri": "https://localhost:8080/",
          "height": 296
        },
        "id": "nK_Wt-asg5B-",
        "outputId": "05348021-f9f5-48dd-f621-ad935fa681fe"
      },
      "source": [
        " sns.lineplot(data=stock_data_augmented, x=\"Date\", y=\"Close\")"
      ],
      "execution_count": 98,
      "outputs": [
        {
          "output_type": "execute_result",
          "data": {
            "text/plain": [
              "<matplotlib.axes._subplots.AxesSubplot at 0x7f3e6eceabd0>"
            ]
          },
          "metadata": {},
          "execution_count": 98
        },
        {
          "output_type": "display_data",
          "data": {
            "image/png": "[encoded data removed]",
            "text/plain": [
              "<Figure size 432x288 with 1 Axes>"
            ]
          },
          "metadata": {
            "needs_background": "light"
          }
        }
      ]
    },
    {
      "cell_type": "code",
      "metadata": {
        "id": "XP_Bc4joiA1t"
      },
      "source": [
        "# Save the stock\n",
        "file_name_stock = \"example_stock.csv\"\n",
        "stock_data_augmented.to_csv(file_name_stock, sep=',')"
      ],
      "execution_count": null,
      "outputs": []
    }
  ]
}